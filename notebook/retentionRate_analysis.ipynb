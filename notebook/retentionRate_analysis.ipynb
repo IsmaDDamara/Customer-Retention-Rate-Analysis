{
 "cells": [
  {
   "cell_type": "markdown",
   "id": "f0b9517f",
   "metadata": {
    "id": "3ky6isVnkk5b",
    "papermill": {
     "duration": 0.017493,
     "end_time": "2025-02-05T18:06:15.991802",
     "exception": false,
     "start_time": "2025-02-05T18:06:15.974309",
     "status": "completed"
    },
    "tags": []
   },
   "source": [
    "## **BUSSINES UNDERSTANDING**"
   ]
  },
  {
   "cell_type": "markdown",
   "id": "85c4f64d",
   "metadata": {
    "id": "TllCrx6Ml10-",
    "papermill": {
     "duration": 0.016874,
     "end_time": "2025-02-05T18:06:16.025404",
     "exception": false,
     "start_time": "2025-02-05T18:06:16.008530",
     "status": "completed"
    },
    "tags": []
   },
   "source": [
    "### **Latar Belakang**\n",
    "\n",
    "Damara Store adalah toko retail online yang menyediakan berbagai produk konsumen untuk memenuhi kebutuhan pelanggan. Dalam era digital yang kompetitif, menjaga loyalitas pelanggan menjadi tantangan utama bagi bisnis retail. Retensi pelanggan yang kuat tidak hanya mengurangi biaya akuisisi pelanggan baru tetapi juga membantu meningkatkan pendapatan melalui pembelian ulang. Oleh karena itu, memahami perilaku dan preferensi pelanggan menjadi kunci untuk menciptakan strategi pemasaran yang lebih relevan dan personal."
   ]
  },
  {
   "cell_type": "markdown",
   "id": "3191f271",
   "metadata": {
    "id": "f7RBj6e8mB0b",
    "papermill": {
     "duration": 0.016318,
     "end_time": "2025-02-05T18:06:16.058539",
     "exception": false,
     "start_time": "2025-02-05T18:06:16.042221",
     "status": "completed"
    },
    "tags": []
   },
   "source": [
    "### **Pertanyaan Bisnis**\n",
    "\n",
    "**Bagaimana Damara Store dapat meningkatkan retensi pelanggan?**  \n",
    "   Strategi atau tindakan apa yang dapat dilakukan untuk mendorong pelanggan baru agar kembali melakukan pembelian?"
   ]
  },
  {
   "cell_type": "markdown",
   "id": "23cf967a",
   "metadata": {
    "id": "D-qZq7B9mGOr",
    "papermill": {
     "duration": 0.015875,
     "end_time": "2025-02-05T18:06:16.090580",
     "exception": false,
     "start_time": "2025-02-05T18:06:16.074705",
     "status": "completed"
    },
    "tags": []
   },
   "source": [
    "### **Tujuan**\n",
    "**Meningkatkan Retensi Pelanggan**:  \n",
    "   Mengidentifikasi dan menerapkan strategi yang dapat meningkatkan persentase pelanggan yang kembali melakukan transaksi dalam periode tertentu (mingguan, bulanan, atau tahunan), serta mengevaluasi keberhasilan inisiatif loyalitas."
   ]
  },
  {
   "cell_type": "markdown",
   "id": "3e43fd71",
   "metadata": {
    "id": "VgKgfBS1j0QD",
    "papermill": {
     "duration": 0.016436,
     "end_time": "2025-02-05T18:06:16.125433",
     "exception": false,
     "start_time": "2025-02-05T18:06:16.108997",
     "status": "completed"
    },
    "tags": []
   },
   "source": [
    "## **DATA UNDERSTANDING**"
   ]
  },
  {
   "cell_type": "markdown",
   "id": "f82cffd3",
   "metadata": {
    "id": "xv576J9emuWH",
    "papermill": {
     "duration": 0.015882,
     "end_time": "2025-02-05T18:06:16.157566",
     "exception": false,
     "start_time": "2025-02-05T18:06:16.141684",
     "status": "completed"
    },
    "tags": []
   },
   "source": [
    "### **Deskripsi Variabel Dataset**\n",
    "\n",
    "Dari dataset yang dimiliki terdapat beberapa data yang tersedia:\n",
    "1. `order_id`: ID unik untuk setiap pesanan.\n",
    "2. `product_code`: Kode unik untuk setiap produk yang dipesan.\n",
    "3. `product_name`: Nama produk yang dipesan.\n",
    "4. `quantity`: Jumlah produk dalam pesanan. Nilai negatif mungkin menunjukkan pengembalian produk.\n",
    "5. `order_date`: Tanggal dan waktu saat pesanan dilakukan.\n",
    "6. `price`: Harga per unit dari produk yang dipesan.\n",
    "7. `customer_id`: ID unik pelanggan yang melakukan pesanan."
   ]
  },
  {
   "cell_type": "markdown",
   "id": "36c92906",
   "metadata": {
    "id": "ly8RMCzjndDf",
    "papermill": {
     "duration": 0.015829,
     "end_time": "2025-02-05T18:06:16.189371",
     "exception": false,
     "start_time": "2025-02-05T18:06:16.173542",
     "status": "completed"
    },
    "tags": []
   },
   "source": [
    "### **Data Overview**"
   ]
  },
  {
   "cell_type": "code",
   "execution_count": 3,
   "id": "f76abf19",
   "metadata": {
    "execution": {
     "iopub.execute_input": "2025-02-05T18:06:16.223410Z",
     "iopub.status.busy": "2025-02-05T18:06:16.222883Z",
     "iopub.status.idle": "2025-02-05T18:06:17.214485Z",
     "shell.execute_reply": "2025-02-05T18:06:17.213334Z"
    },
    "id": "om0DwYCoxZBH",
    "papermill": {
     "duration": 1.011105,
     "end_time": "2025-02-05T18:06:17.216618",
     "exception": false,
     "start_time": "2025-02-05T18:06:16.205513",
     "status": "completed"
    },
    "tags": []
   },
   "outputs": [],
   "source": [
    "# Import library yang diperlukan\n",
    "import pandas as pd\n",
    "import numpy as np\n",
    "import datetime as dt\n",
    "\n",
    "# Import library viusalisasi\n",
    "import matplotlib.pyplot as plt"
   ]
  },
  {
   "cell_type": "code",
   "execution_count": 4,
   "id": "c3fbe68f",
   "metadata": {
    "execution": {
     "iopub.execute_input": "2025-02-05T18:06:17.252000Z",
     "iopub.status.busy": "2025-02-05T18:06:17.251475Z",
     "iopub.status.idle": "2025-02-05T18:06:18.210757Z",
     "shell.execute_reply": "2025-02-05T18:06:18.209187Z"
    },
    "executionInfo": {
     "elapsed": 1331,
     "status": "ok",
     "timestamp": 1738341877526,
     "user": {
      "displayName": "Isma Dian Damara",
      "userId": "03128721927476324285"
     },
     "user_tz": -420
    },
    "id": "SCOTJpE7xsYV",
    "outputId": "9255719e-7c9f-4622-aa8a-cfcf7bfd2a58",
    "papermill": {
     "duration": 0.978692,
     "end_time": "2025-02-05T18:06:18.212856",
     "exception": false,
     "start_time": "2025-02-05T18:06:17.234164",
     "status": "completed"
    },
    "tags": []
   },
   "outputs": [
    {
     "data": {
      "text/html": [
       "<div>\n",
       "<style scoped>\n",
       "    .dataframe tbody tr th:only-of-type {\n",
       "        vertical-align: middle;\n",
       "    }\n",
       "\n",
       "    .dataframe tbody tr th {\n",
       "        vertical-align: top;\n",
       "    }\n",
       "\n",
       "    .dataframe thead th {\n",
       "        text-align: right;\n",
       "    }\n",
       "</style>\n",
       "<table border=\"1\" class=\"dataframe\">\n",
       "  <thead>\n",
       "    <tr style=\"text-align: right;\">\n",
       "      <th></th>\n",
       "      <th>order_id</th>\n",
       "      <th>product_code</th>\n",
       "      <th>product_name</th>\n",
       "      <th>quantity</th>\n",
       "      <th>order_date</th>\n",
       "      <th>price</th>\n",
       "      <th>customer_id</th>\n",
       "    </tr>\n",
       "  </thead>\n",
       "  <tbody>\n",
       "    <tr>\n",
       "      <th>0</th>\n",
       "      <td>493410</td>\n",
       "      <td>TEST001</td>\n",
       "      <td>This is a test product.</td>\n",
       "      <td>5</td>\n",
       "      <td>2010-01-04 09:24:00</td>\n",
       "      <td>4.50</td>\n",
       "      <td>12346.0</td>\n",
       "    </tr>\n",
       "    <tr>\n",
       "      <th>1</th>\n",
       "      <td>C493411</td>\n",
       "      <td>21539</td>\n",
       "      <td>RETRO SPOTS BUTTER DISH</td>\n",
       "      <td>-1</td>\n",
       "      <td>2010-01-04 09:43:00</td>\n",
       "      <td>4.25</td>\n",
       "      <td>14590.0</td>\n",
       "    </tr>\n",
       "    <tr>\n",
       "      <th>2</th>\n",
       "      <td>493412</td>\n",
       "      <td>TEST001</td>\n",
       "      <td>This is a test product.</td>\n",
       "      <td>5</td>\n",
       "      <td>2010-01-04 09:53:00</td>\n",
       "      <td>4.50</td>\n",
       "      <td>12346.0</td>\n",
       "    </tr>\n",
       "    <tr>\n",
       "      <th>3</th>\n",
       "      <td>493413</td>\n",
       "      <td>21724</td>\n",
       "      <td>PANDA AND BUNNIES STICKER SHEET</td>\n",
       "      <td>1</td>\n",
       "      <td>2010-01-04 09:54:00</td>\n",
       "      <td>0.85</td>\n",
       "      <td>NaN</td>\n",
       "    </tr>\n",
       "    <tr>\n",
       "      <th>4</th>\n",
       "      <td>493413</td>\n",
       "      <td>84578</td>\n",
       "      <td>ELEPHANT TOY WITH BLUE T-SHIRT</td>\n",
       "      <td>1</td>\n",
       "      <td>2010-01-04 09:54:00</td>\n",
       "      <td>3.75</td>\n",
       "      <td>NaN</td>\n",
       "    </tr>\n",
       "  </tbody>\n",
       "</table>\n",
       "</div>"
      ],
      "text/plain": [
       "  order_id product_code                     product_name  quantity   \n",
       "0   493410      TEST001          This is a test product.         5  \\\n",
       "1  C493411        21539          RETRO SPOTS BUTTER DISH        -1   \n",
       "2   493412      TEST001          This is a test product.         5   \n",
       "3   493413        21724  PANDA AND BUNNIES STICKER SHEET         1   \n",
       "4   493413        84578   ELEPHANT TOY WITH BLUE T-SHIRT         1   \n",
       "\n",
       "            order_date  price  customer_id  \n",
       "0  2010-01-04 09:24:00   4.50      12346.0  \n",
       "1  2010-01-04 09:43:00   4.25      14590.0  \n",
       "2  2010-01-04 09:53:00   4.50      12346.0  \n",
       "3  2010-01-04 09:54:00   0.85          NaN  \n",
       "4  2010-01-04 09:54:00   3.75          NaN  "
      ]
     },
     "execution_count": 4,
     "metadata": {},
     "output_type": "execute_result"
    }
   ],
   "source": [
    "# Load dataset yang akan digunakan\n",
    "df = pd.read_csv('../data/Online_Retail_Data.csv')\n",
    "df.head()"
   ]
  },
  {
   "cell_type": "code",
   "execution_count": 5,
   "id": "b33f1751",
   "metadata": {
    "execution": {
     "iopub.execute_input": "2025-02-05T18:06:18.250749Z",
     "iopub.status.busy": "2025-02-05T18:06:18.250357Z",
     "iopub.status.idle": "2025-02-05T18:06:18.256882Z",
     "shell.execute_reply": "2025-02-05T18:06:18.255679Z"
    },
    "executionInfo": {
     "elapsed": 13,
     "status": "ok",
     "timestamp": 1738341877527,
     "user": {
      "displayName": "Isma Dian Damara",
      "userId": "03128721927476324285"
     },
     "user_tz": -420
    },
    "id": "qu-hsQtAkTC2",
    "outputId": "928a6e5e-755b-4c2e-8cf3-294b04679ea4",
    "papermill": {
     "duration": 0.028246,
     "end_time": "2025-02-05T18:06:18.258750",
     "exception": false,
     "start_time": "2025-02-05T18:06:18.230504",
     "status": "completed"
    },
    "tags": []
   },
   "outputs": [
    {
     "data": {
      "text/plain": [
       "(461773, 7)"
      ]
     },
     "execution_count": 5,
     "metadata": {},
     "output_type": "execute_result"
    }
   ],
   "source": [
    "# melihat bentuk dataset\n",
    "df.shape"
   ]
  },
  {
   "cell_type": "code",
   "execution_count": 6,
   "id": "4e1b3730",
   "metadata": {
    "execution": {
     "iopub.execute_input": "2025-02-05T18:06:18.294747Z",
     "iopub.status.busy": "2025-02-05T18:06:18.294323Z",
     "iopub.status.idle": "2025-02-05T18:06:18.420063Z",
     "shell.execute_reply": "2025-02-05T18:06:18.418687Z"
    },
    "executionInfo": {
     "elapsed": 11,
     "status": "ok",
     "timestamp": 1738341877527,
     "user": {
      "displayName": "Isma Dian Damara",
      "userId": "03128721927476324285"
     },
     "user_tz": -420
    },
    "id": "emOpAO0oyFqe",
    "outputId": "332f1eca-6828-4ce8-e327-deba020bbb07",
    "papermill": {
     "duration": 0.146035,
     "end_time": "2025-02-05T18:06:18.421865",
     "exception": false,
     "start_time": "2025-02-05T18:06:18.275830",
     "status": "completed"
    },
    "tags": []
   },
   "outputs": [
    {
     "name": "stdout",
     "output_type": "stream",
     "text": [
      "<class 'pandas.core.frame.DataFrame'>\n",
      "RangeIndex: 461773 entries, 0 to 461772\n",
      "Data columns (total 7 columns):\n",
      " #   Column        Non-Null Count   Dtype  \n",
      "---  ------        --------------   -----  \n",
      " 0   order_id      461773 non-null  object \n",
      " 1   product_code  461773 non-null  object \n",
      " 2   product_name  459055 non-null  object \n",
      " 3   quantity      461773 non-null  int64  \n",
      " 4   order_date    461773 non-null  object \n",
      " 5   price         461773 non-null  float64\n",
      " 6   customer_id   360853 non-null  float64\n",
      "dtypes: float64(2), int64(1), object(4)\n",
      "memory usage: 24.7+ MB\n"
     ]
    }
   ],
   "source": [
    "# melihat informasi dataset\n",
    "df.info()"
   ]
  },
  {
   "cell_type": "code",
   "execution_count": 7,
   "id": "fe1e7deb",
   "metadata": {
    "execution": {
     "iopub.execute_input": "2025-02-05T18:06:18.457473Z",
     "iopub.status.busy": "2025-02-05T18:06:18.457095Z",
     "iopub.status.idle": "2025-02-05T18:06:18.524058Z",
     "shell.execute_reply": "2025-02-05T18:06:18.522925Z"
    },
    "executionInfo": {
     "elapsed": 8,
     "status": "ok",
     "timestamp": 1738341877527,
     "user": {
      "displayName": "Isma Dian Damara",
      "userId": "03128721927476324285"
     },
     "user_tz": -420
    },
    "id": "UVyWUPcskVg2",
    "outputId": "f6221959-1ab8-4043-b7f7-559ba504ac62",
    "papermill": {
     "duration": 0.087105,
     "end_time": "2025-02-05T18:06:18.525809",
     "exception": false,
     "start_time": "2025-02-05T18:06:18.438704",
     "status": "completed"
    },
    "tags": []
   },
   "outputs": [
    {
     "data": {
      "text/html": [
       "<div>\n",
       "<style scoped>\n",
       "    .dataframe tbody tr th:only-of-type {\n",
       "        vertical-align: middle;\n",
       "    }\n",
       "\n",
       "    .dataframe tbody tr th {\n",
       "        vertical-align: top;\n",
       "    }\n",
       "\n",
       "    .dataframe thead th {\n",
       "        text-align: right;\n",
       "    }\n",
       "</style>\n",
       "<table border=\"1\" class=\"dataframe\">\n",
       "  <thead>\n",
       "    <tr style=\"text-align: right;\">\n",
       "      <th></th>\n",
       "      <th>quantity</th>\n",
       "      <th>price</th>\n",
       "      <th>customer_id</th>\n",
       "    </tr>\n",
       "  </thead>\n",
       "  <tbody>\n",
       "    <tr>\n",
       "      <th>count</th>\n",
       "      <td>461773.000000</td>\n",
       "      <td>461773.000000</td>\n",
       "      <td>360853.000000</td>\n",
       "    </tr>\n",
       "    <tr>\n",
       "      <th>mean</th>\n",
       "      <td>9.088892</td>\n",
       "      <td>4.569963</td>\n",
       "      <td>15557.611138</td>\n",
       "    </tr>\n",
       "    <tr>\n",
       "      <th>std</th>\n",
       "      <td>86.366467</td>\n",
       "      <td>153.411566</td>\n",
       "      <td>1593.728741</td>\n",
       "    </tr>\n",
       "    <tr>\n",
       "      <th>min</th>\n",
       "      <td>-9600.000000</td>\n",
       "      <td>-53594.360000</td>\n",
       "      <td>12346.000000</td>\n",
       "    </tr>\n",
       "    <tr>\n",
       "      <th>25%</th>\n",
       "      <td>1.000000</td>\n",
       "      <td>1.250000</td>\n",
       "      <td>14210.000000</td>\n",
       "    </tr>\n",
       "    <tr>\n",
       "      <th>50%</th>\n",
       "      <td>3.000000</td>\n",
       "      <td>2.100000</td>\n",
       "      <td>15580.000000</td>\n",
       "    </tr>\n",
       "    <tr>\n",
       "      <th>75%</th>\n",
       "      <td>10.000000</td>\n",
       "      <td>4.210000</td>\n",
       "      <td>16938.000000</td>\n",
       "    </tr>\n",
       "    <tr>\n",
       "      <th>max</th>\n",
       "      <td>10200.000000</td>\n",
       "      <td>25111.090000</td>\n",
       "      <td>18287.000000</td>\n",
       "    </tr>\n",
       "  </tbody>\n",
       "</table>\n",
       "</div>"
      ],
      "text/plain": [
       "            quantity          price    customer_id\n",
       "count  461773.000000  461773.000000  360853.000000\n",
       "mean        9.088892       4.569963   15557.611138\n",
       "std        86.366467     153.411566    1593.728741\n",
       "min     -9600.000000  -53594.360000   12346.000000\n",
       "25%         1.000000       1.250000   14210.000000\n",
       "50%         3.000000       2.100000   15580.000000\n",
       "75%        10.000000       4.210000   16938.000000\n",
       "max     10200.000000   25111.090000   18287.000000"
      ]
     },
     "execution_count": 7,
     "metadata": {},
     "output_type": "execute_result"
    }
   ],
   "source": [
    "# melihat deskripsi statistik dataset\n",
    "df.describe()"
   ]
  },
  {
   "cell_type": "code",
   "execution_count": 8,
   "id": "3713bd25",
   "metadata": {
    "execution": {
     "iopub.execute_input": "2025-02-05T18:06:18.562556Z",
     "iopub.status.busy": "2025-02-05T18:06:18.562151Z",
     "iopub.status.idle": "2025-02-05T18:06:18.663203Z",
     "shell.execute_reply": "2025-02-05T18:06:18.662075Z"
    },
    "executionInfo": {
     "elapsed": 597,
     "status": "ok",
     "timestamp": 1738341878118,
     "user": {
      "displayName": "Isma Dian Damara",
      "userId": "03128721927476324285"
     },
     "user_tz": -420
    },
    "id": "YbJ3wDHVpC-7",
    "outputId": "8bb24f45-3e51-440d-be09-7235fefdd1c3",
    "papermill": {
     "duration": 0.121524,
     "end_time": "2025-02-05T18:06:18.665054",
     "exception": false,
     "start_time": "2025-02-05T18:06:18.543530",
     "status": "completed"
    },
    "tags": []
   },
   "outputs": [
    {
     "data": {
      "text/plain": [
       "order_id             0\n",
       "product_code         0\n",
       "product_name      2718\n",
       "quantity             0\n",
       "order_date           0\n",
       "price                0\n",
       "customer_id     100920\n",
       "dtype: int64"
      ]
     },
     "execution_count": 8,
     "metadata": {},
     "output_type": "execute_result"
    }
   ],
   "source": [
    "# Melihat jumlah nilai null pada dataset\n",
    "df.isnull().sum()"
   ]
  },
  {
   "cell_type": "code",
   "execution_count": 9,
   "id": "bb1120d2",
   "metadata": {
    "execution": {
     "iopub.execute_input": "2025-02-05T18:06:18.701287Z",
     "iopub.status.busy": "2025-02-05T18:06:18.700857Z",
     "iopub.status.idle": "2025-02-05T18:06:18.957463Z",
     "shell.execute_reply": "2025-02-05T18:06:18.956252Z"
    },
    "executionInfo": {
     "elapsed": 533,
     "status": "ok",
     "timestamp": 1738341878645,
     "user": {
      "displayName": "Isma Dian Damara",
      "userId": "03128721927476324285"
     },
     "user_tz": -420
    },
    "id": "rhH-mhT9pJ8A",
    "outputId": "41fc9483-276f-4ec4-ff4f-93347429189a",
    "papermill": {
     "duration": 0.276608,
     "end_time": "2025-02-05T18:06:18.959457",
     "exception": false,
     "start_time": "2025-02-05T18:06:18.682849",
     "status": "completed"
    },
    "tags": []
   },
   "outputs": [
    {
     "data": {
      "text/plain": [
       "6479"
      ]
     },
     "execution_count": 9,
     "metadata": {},
     "output_type": "execute_result"
    }
   ],
   "source": [
    "# melihat jumlah nilai duplikat\n",
    "df.duplicated().sum()"
   ]
  },
  {
   "cell_type": "markdown",
   "id": "a0b43e19",
   "metadata": {
    "id": "tU0-TdKsyjer",
    "papermill": {
     "duration": 0.017793,
     "end_time": "2025-02-05T18:06:18.996127",
     "exception": false,
     "start_time": "2025-02-05T18:06:18.978334",
     "status": "completed"
    },
    "tags": []
   },
   "source": [
    "## **DATA CLEANSING**\n",
    "\n",
    "Data cleansing dilakukan untuk memastikan data dalam kondisi bersih, konsisten, dan bebas dari kesalahan. Proses ini mencakup berbagai langkah untuk meningkatkan kualitas data, sehingga analisis dapat dilakukan secara akurat dan menghasilkan wawasan yang dapat diandalkan."
   ]
  },
  {
   "cell_type": "code",
   "execution_count": 10,
   "id": "a2fd119b",
   "metadata": {
    "execution": {
     "iopub.execute_input": "2025-02-05T18:06:19.033887Z",
     "iopub.status.busy": "2025-02-05T18:06:19.033433Z",
     "iopub.status.idle": "2025-02-05T18:06:19.051031Z",
     "shell.execute_reply": "2025-02-05T18:06:19.049604Z"
    },
    "id": "hWFckYYVyNZH",
    "papermill": {
     "duration": 0.038138,
     "end_time": "2025-02-05T18:06:19.053324",
     "exception": false,
     "start_time": "2025-02-05T18:06:19.015186",
     "status": "completed"
    },
    "tags": []
   },
   "outputs": [],
   "source": [
    "# membuat salinan dataset\n",
    "df_clean = df.copy()"
   ]
  },
  {
   "cell_type": "markdown",
   "id": "f5cddf77",
   "metadata": {
    "id": "xkk-bo6uo3nW",
    "papermill": {
     "duration": 0.022952,
     "end_time": "2025-02-05T18:06:19.094837",
     "exception": false,
     "start_time": "2025-02-05T18:06:19.071885",
     "status": "completed"
    },
    "tags": []
   },
   "source": [
    "#### **Konversi Tanggal dan Penambahan Kolom Baru**\n",
    " Mengubah format kolom **order_date** menjadi tipe data datetime agar bisa diproses lebih lanjut. Kemudian menambahkan kolom baru **year_month** yang berisi periode bulan dan tahun dari tanggal pemesanan."
   ]
  },
  {
   "cell_type": "code",
   "execution_count": 11,
   "id": "032b71ac",
   "metadata": {
    "execution": {
     "iopub.execute_input": "2025-02-05T18:06:19.145757Z",
     "iopub.status.busy": "2025-02-05T18:06:19.145019Z",
     "iopub.status.idle": "2025-02-05T18:06:19.623390Z",
     "shell.execute_reply": "2025-02-05T18:06:19.622110Z"
    },
    "executionInfo": {
     "elapsed": 409,
     "status": "ok",
     "timestamp": 1738341879051,
     "user": {
      "displayName": "Isma Dian Damara",
      "userId": "03128721927476324285"
     },
     "user_tz": -420
    },
    "id": "RtAS5PGHyqVN",
    "outputId": "fedc7b63-4aaf-4dd7-9f49-40a43f6426ba",
    "papermill": {
     "duration": 0.50649,
     "end_time": "2025-02-05T18:06:19.625377",
     "exception": false,
     "start_time": "2025-02-05T18:06:19.118887",
     "status": "completed"
    },
    "tags": []
   },
   "outputs": [
    {
     "data": {
      "text/html": [
       "<div>\n",
       "<style scoped>\n",
       "    .dataframe tbody tr th:only-of-type {\n",
       "        vertical-align: middle;\n",
       "    }\n",
       "\n",
       "    .dataframe tbody tr th {\n",
       "        vertical-align: top;\n",
       "    }\n",
       "\n",
       "    .dataframe thead th {\n",
       "        text-align: right;\n",
       "    }\n",
       "</style>\n",
       "<table border=\"1\" class=\"dataframe\">\n",
       "  <thead>\n",
       "    <tr style=\"text-align: right;\">\n",
       "      <th></th>\n",
       "      <th>order_id</th>\n",
       "      <th>product_code</th>\n",
       "      <th>product_name</th>\n",
       "      <th>quantity</th>\n",
       "      <th>order_date</th>\n",
       "      <th>price</th>\n",
       "      <th>customer_id</th>\n",
       "      <th>date</th>\n",
       "      <th>year_month</th>\n",
       "    </tr>\n",
       "  </thead>\n",
       "  <tbody>\n",
       "    <tr>\n",
       "      <th>0</th>\n",
       "      <td>493410</td>\n",
       "      <td>TEST001</td>\n",
       "      <td>This is a test product.</td>\n",
       "      <td>5</td>\n",
       "      <td>2010-01-04 09:24:00</td>\n",
       "      <td>4.50</td>\n",
       "      <td>12346.0</td>\n",
       "      <td>2010-01-04</td>\n",
       "      <td>2010-01</td>\n",
       "    </tr>\n",
       "    <tr>\n",
       "      <th>1</th>\n",
       "      <td>C493411</td>\n",
       "      <td>21539</td>\n",
       "      <td>RETRO SPOTS BUTTER DISH</td>\n",
       "      <td>-1</td>\n",
       "      <td>2010-01-04 09:43:00</td>\n",
       "      <td>4.25</td>\n",
       "      <td>14590.0</td>\n",
       "      <td>2010-01-04</td>\n",
       "      <td>2010-01</td>\n",
       "    </tr>\n",
       "    <tr>\n",
       "      <th>2</th>\n",
       "      <td>493412</td>\n",
       "      <td>TEST001</td>\n",
       "      <td>This is a test product.</td>\n",
       "      <td>5</td>\n",
       "      <td>2010-01-04 09:53:00</td>\n",
       "      <td>4.50</td>\n",
       "      <td>12346.0</td>\n",
       "      <td>2010-01-04</td>\n",
       "      <td>2010-01</td>\n",
       "    </tr>\n",
       "    <tr>\n",
       "      <th>3</th>\n",
       "      <td>493413</td>\n",
       "      <td>21724</td>\n",
       "      <td>PANDA AND BUNNIES STICKER SHEET</td>\n",
       "      <td>1</td>\n",
       "      <td>2010-01-04 09:54:00</td>\n",
       "      <td>0.85</td>\n",
       "      <td>NaN</td>\n",
       "      <td>2010-01-04</td>\n",
       "      <td>2010-01</td>\n",
       "    </tr>\n",
       "    <tr>\n",
       "      <th>4</th>\n",
       "      <td>493413</td>\n",
       "      <td>84578</td>\n",
       "      <td>ELEPHANT TOY WITH BLUE T-SHIRT</td>\n",
       "      <td>1</td>\n",
       "      <td>2010-01-04 09:54:00</td>\n",
       "      <td>3.75</td>\n",
       "      <td>NaN</td>\n",
       "      <td>2010-01-04</td>\n",
       "      <td>2010-01</td>\n",
       "    </tr>\n",
       "  </tbody>\n",
       "</table>\n",
       "</div>"
      ],
      "text/plain": [
       "  order_id product_code                     product_name  quantity   \n",
       "0   493410      TEST001          This is a test product.         5  \\\n",
       "1  C493411        21539          RETRO SPOTS BUTTER DISH        -1   \n",
       "2   493412      TEST001          This is a test product.         5   \n",
       "3   493413        21724  PANDA AND BUNNIES STICKER SHEET         1   \n",
       "4   493413        84578   ELEPHANT TOY WITH BLUE T-SHIRT         1   \n",
       "\n",
       "           order_date  price  customer_id       date year_month  \n",
       "0 2010-01-04 09:24:00   4.50      12346.0 2010-01-04    2010-01  \n",
       "1 2010-01-04 09:43:00   4.25      14590.0 2010-01-04    2010-01  \n",
       "2 2010-01-04 09:53:00   4.50      12346.0 2010-01-04    2010-01  \n",
       "3 2010-01-04 09:54:00   0.85          NaN 2010-01-04    2010-01  \n",
       "4 2010-01-04 09:54:00   3.75          NaN 2010-01-04    2010-01  "
      ]
     },
     "execution_count": 11,
     "metadata": {},
     "output_type": "execute_result"
    }
   ],
   "source": [
    "# Mengkonversi kolom order_date menjadi datetime\n",
    "df_clean['order_date'] = df_clean['order_date'].astype('datetime64[ns]')\n",
    "# membuat kolom date\n",
    "df_clean['date'] = pd.to_datetime(df_clean['order_date']).dt.date.astype('datetime64[ns]')\n",
    "# membuat kolom year_month\n",
    "df_clean['year_month'] = df_clean['order_date'].dt.to_period('M')\n",
    "\n",
    "df_clean.head()"
   ]
  },
  {
   "cell_type": "markdown",
   "id": "4301df0b",
   "metadata": {
    "id": "2EDSamNspmGj",
    "papermill": {
     "duration": 0.01766,
     "end_time": "2025-02-05T18:06:19.661342",
     "exception": false,
     "start_time": "2025-02-05T18:06:19.643682",
     "status": "completed"
    },
    "tags": []
   },
   "source": [
    "#### **Pembersihan Data yang Hilang**\n",
    "\n",
    "Menghapus baris-baris yang tidak memiliki nilai pada kolom **customer_id** dan product_name karena data tersebut tidak valid untuk analisis lebih lanjut."
   ]
  },
  {
   "cell_type": "code",
   "execution_count": 12,
   "id": "0c3571b4",
   "metadata": {
    "execution": {
     "iopub.execute_input": "2025-02-05T18:06:19.697514Z",
     "iopub.status.busy": "2025-02-05T18:06:19.697170Z",
     "iopub.status.idle": "2025-02-05T18:06:19.898211Z",
     "shell.execute_reply": "2025-02-05T18:06:19.897036Z"
    },
    "executionInfo": {
     "elapsed": 7,
     "status": "ok",
     "timestamp": 1738341879051,
     "user": {
      "displayName": "Isma Dian Damara",
      "userId": "03128721927476324285"
     },
     "user_tz": -420
    },
    "id": "-pMLqHFEpqfy",
    "outputId": "4e88e3bb-1203-4926-ef29-17fd0fedd1bf",
    "papermill": {
     "duration": 0.221575,
     "end_time": "2025-02-05T18:06:19.900239",
     "exception": false,
     "start_time": "2025-02-05T18:06:19.678664",
     "status": "completed"
    },
    "tags": []
   },
   "outputs": [
    {
     "data": {
      "text/plain": [
       "order_id        0\n",
       "product_code    0\n",
       "product_name    0\n",
       "quantity        0\n",
       "order_date      0\n",
       "price           0\n",
       "customer_id     0\n",
       "date            0\n",
       "year_month      0\n",
       "dtype: int64"
      ]
     },
     "execution_count": 12,
     "metadata": {},
     "output_type": "execute_result"
    }
   ],
   "source": [
    "# menghapus baris yang memiliki nilai null\n",
    "df_clean = df_clean.dropna()\n",
    "\n",
    "# mengecek apakah masih ada nilai null atau tidak\n",
    "df_clean.isnull().sum()"
   ]
  },
  {
   "cell_type": "markdown",
   "id": "3d6b069d",
   "metadata": {
    "id": "GgKCEnxSq6w1",
    "papermill": {
     "duration": 0.076406,
     "end_time": "2025-02-05T18:06:19.995301",
     "exception": false,
     "start_time": "2025-02-05T18:06:19.918895",
     "status": "completed"
    },
    "tags": []
   },
   "source": [
    "#### **Menghapus Data Test**\n",
    "\n",
    "Mengubah semua nilai pada kolom **product_name** menjadi huruf kecil untuk konsistensi data Kemudian menghapus semua baris yang mengandung informasi mengenai produk pengujian dengan kata \"test\" pada kolom **product_code** dan **product_name**."
   ]
  },
  {
   "cell_type": "code",
   "execution_count": 13,
   "id": "43f7617c",
   "metadata": {
    "execution": {
     "iopub.execute_input": "2025-02-05T18:06:20.035168Z",
     "iopub.status.busy": "2025-02-05T18:06:20.034751Z",
     "iopub.status.idle": "2025-02-05T18:06:20.475028Z",
     "shell.execute_reply": "2025-02-05T18:06:20.473444Z"
    },
    "executionInfo": {
     "elapsed": 337,
     "status": "ok",
     "timestamp": 1738341879382,
     "user": {
      "displayName": "Isma Dian Damara",
      "userId": "03128721927476324285"
     },
     "user_tz": -420
    },
    "id": "KYUV_wMesIlk",
    "outputId": "535b996a-94af-4b7e-82a9-0ad3ee161967",
    "papermill": {
     "duration": 0.462585,
     "end_time": "2025-02-05T18:06:20.477110",
     "exception": false,
     "start_time": "2025-02-05T18:06:20.014525",
     "status": "completed"
    },
    "tags": []
   },
   "outputs": [
    {
     "data": {
      "text/html": [
       "<div>\n",
       "<style scoped>\n",
       "    .dataframe tbody tr th:only-of-type {\n",
       "        vertical-align: middle;\n",
       "    }\n",
       "\n",
       "    .dataframe tbody tr th {\n",
       "        vertical-align: top;\n",
       "    }\n",
       "\n",
       "    .dataframe thead th {\n",
       "        text-align: right;\n",
       "    }\n",
       "</style>\n",
       "<table border=\"1\" class=\"dataframe\">\n",
       "  <thead>\n",
       "    <tr style=\"text-align: right;\">\n",
       "      <th></th>\n",
       "      <th>order_id</th>\n",
       "      <th>product_code</th>\n",
       "      <th>product_name</th>\n",
       "      <th>quantity</th>\n",
       "      <th>order_date</th>\n",
       "      <th>price</th>\n",
       "      <th>customer_id</th>\n",
       "      <th>date</th>\n",
       "      <th>year_month</th>\n",
       "    </tr>\n",
       "  </thead>\n",
       "  <tbody>\n",
       "    <tr>\n",
       "      <th>1</th>\n",
       "      <td>C493411</td>\n",
       "      <td>21539</td>\n",
       "      <td>retro spots butter dish</td>\n",
       "      <td>-1</td>\n",
       "      <td>2010-01-04 09:43:00</td>\n",
       "      <td>4.25</td>\n",
       "      <td>14590.0</td>\n",
       "      <td>2010-01-04</td>\n",
       "      <td>2010-01</td>\n",
       "    </tr>\n",
       "    <tr>\n",
       "      <th>6</th>\n",
       "      <td>493414</td>\n",
       "      <td>21844</td>\n",
       "      <td>retro spot mug</td>\n",
       "      <td>36</td>\n",
       "      <td>2010-01-04 10:28:00</td>\n",
       "      <td>2.55</td>\n",
       "      <td>14590.0</td>\n",
       "      <td>2010-01-04</td>\n",
       "      <td>2010-01</td>\n",
       "    </tr>\n",
       "    <tr>\n",
       "      <th>7</th>\n",
       "      <td>493414</td>\n",
       "      <td>21533</td>\n",
       "      <td>retro spot large milk jug</td>\n",
       "      <td>12</td>\n",
       "      <td>2010-01-04 10:28:00</td>\n",
       "      <td>4.25</td>\n",
       "      <td>14590.0</td>\n",
       "      <td>2010-01-04</td>\n",
       "      <td>2010-01</td>\n",
       "    </tr>\n",
       "    <tr>\n",
       "      <th>8</th>\n",
       "      <td>493414</td>\n",
       "      <td>37508</td>\n",
       "      <td>new england ceramic cake server</td>\n",
       "      <td>2</td>\n",
       "      <td>2010-01-04 10:28:00</td>\n",
       "      <td>2.55</td>\n",
       "      <td>14590.0</td>\n",
       "      <td>2010-01-04</td>\n",
       "      <td>2010-01</td>\n",
       "    </tr>\n",
       "    <tr>\n",
       "      <th>9</th>\n",
       "      <td>493414</td>\n",
       "      <td>35001G</td>\n",
       "      <td>hand open shape gold</td>\n",
       "      <td>2</td>\n",
       "      <td>2010-01-04 10:28:00</td>\n",
       "      <td>4.25</td>\n",
       "      <td>14590.0</td>\n",
       "      <td>2010-01-04</td>\n",
       "      <td>2010-01</td>\n",
       "    </tr>\n",
       "  </tbody>\n",
       "</table>\n",
       "</div>"
      ],
      "text/plain": [
       "  order_id product_code                     product_name  quantity   \n",
       "1  C493411        21539          retro spots butter dish        -1  \\\n",
       "6   493414        21844                   retro spot mug        36   \n",
       "7   493414        21533        retro spot large milk jug        12   \n",
       "8   493414        37508  new england ceramic cake server         2   \n",
       "9   493414       35001G             hand open shape gold         2   \n",
       "\n",
       "           order_date  price  customer_id       date year_month  \n",
       "1 2010-01-04 09:43:00   4.25      14590.0 2010-01-04    2010-01  \n",
       "6 2010-01-04 10:28:00   2.55      14590.0 2010-01-04    2010-01  \n",
       "7 2010-01-04 10:28:00   4.25      14590.0 2010-01-04    2010-01  \n",
       "8 2010-01-04 10:28:00   2.55      14590.0 2010-01-04    2010-01  \n",
       "9 2010-01-04 10:28:00   4.25      14590.0 2010-01-04    2010-01  "
      ]
     },
     "execution_count": 13,
     "metadata": {},
     "output_type": "execute_result"
    }
   ],
   "source": [
    "# membuat semua product_name berhuruf kecil\n",
    "df_clean['product_name'] = df_clean['product_name'].str.lower()\n",
    "# menghapus semua baris dengan product_code atau product_name test\n",
    "df_clean = df_clean[(~df_clean['product_code'].str.lower().str.contains('test')) |\n",
    "                    (~df_clean['product_name'].str.contains('test'))]\n",
    "\n",
    "df_clean.head()"
   ]
  },
  {
   "cell_type": "markdown",
   "id": "68f69c24",
   "metadata": {
    "id": "WH9mnx9GuhLt",
    "papermill": {
     "duration": 0.017253,
     "end_time": "2025-02-05T18:06:20.512397",
     "exception": false,
     "start_time": "2025-02-05T18:06:20.495144",
     "status": "completed"
    },
    "tags": []
   },
   "source": [
    "#### **Menambahkan Status Order**\n",
    "Membuat kolom **order_status** yang mengidentifikasi apakah pesanan dibatalkan atau dikirim berdasarkan awalan pada order_id. Jika order_id dimulai dengan 'C', statusnya adalah 'cancelled', jika tidak maka 'delivered'."
   ]
  },
  {
   "cell_type": "code",
   "execution_count": 14,
   "id": "a3db4cb0",
   "metadata": {
    "execution": {
     "iopub.execute_input": "2025-02-05T18:06:20.550112Z",
     "iopub.status.busy": "2025-02-05T18:06:20.549694Z",
     "iopub.status.idle": "2025-02-05T18:06:20.690357Z",
     "shell.execute_reply": "2025-02-05T18:06:20.689188Z"
    },
    "id": "dL5k8WMou0pc",
    "papermill": {
     "duration": 0.162426,
     "end_time": "2025-02-05T18:06:20.692355",
     "exception": false,
     "start_time": "2025-02-05T18:06:20.529929",
     "status": "completed"
    },
    "tags": []
   },
   "outputs": [],
   "source": [
    "# membuat kolom order_status dengan nilai 'cancelled' jika order_id diawali dengan huruf 'c' dan 'delivered' jika order_id tanpa awalan huruf 'c'\n",
    "df_clean['order_status'] = np.where(df_clean['order_id'].str[:1]=='C', 'cancelled', 'delivered')"
   ]
  },
  {
   "cell_type": "markdown",
   "id": "768ea3d1",
   "metadata": {
    "id": "GH1g6u80u37y",
    "papermill": {
     "duration": 0.018563,
     "end_time": "2025-02-05T18:06:20.729753",
     "exception": false,
     "start_time": "2025-02-05T18:06:20.711190",
     "status": "completed"
    },
    "tags": []
   },
   "source": [
    "#### **Pembersihan Data Quantity dan Data Harga**\n",
    "\n",
    "Mengubah nilai negatif pada kolom **quantity** menjadi positif, karena nilai negatif biasanya menunjukkan pesanan yang dibatalkan, namun yang diinginkan adalah jumlah produk yang sebenarnya dipesan. Kemudian\n",
    "menghapus baris dengan nilai harga (price) yang negatif karena harga tidak boleh bernilai negatif dalam konteks transaksi."
   ]
  },
  {
   "cell_type": "code",
   "execution_count": 15,
   "id": "ad89b63a",
   "metadata": {
    "execution": {
     "iopub.execute_input": "2025-02-05T18:06:20.767209Z",
     "iopub.status.busy": "2025-02-05T18:06:20.766796Z",
     "iopub.status.idle": "2025-02-05T18:06:20.803221Z",
     "shell.execute_reply": "2025-02-05T18:06:20.801921Z"
    },
    "id": "9DNFgvWCvN2Y",
    "papermill": {
     "duration": 0.057561,
     "end_time": "2025-02-05T18:06:20.805352",
     "exception": false,
     "start_time": "2025-02-05T18:06:20.747791",
     "status": "completed"
    },
    "tags": []
   },
   "outputs": [],
   "source": [
    "# mengubah nilai quantity yang negatif menjadi positif\n",
    "df_clean['quantity'] = df_clean['quantity'].abs()\n",
    "# menghapus baris dengan price bernilai negatif\n",
    "df_clean = df_clean[df_clean['price']>0]"
   ]
  },
  {
   "cell_type": "markdown",
   "id": "62fb1a2e",
   "metadata": {
    "id": "laZEgSfpvSGf",
    "papermill": {
     "duration": 0.018161,
     "end_time": "2025-02-05T18:06:20.842196",
     "exception": false,
     "start_time": "2025-02-05T18:06:20.824035",
     "status": "completed"
    },
    "tags": []
   },
   "source": [
    "#### **Membuat kolom Amount**\n",
    "Membuat kolom baru **amount** yang dihitung dari perkalian antara **quantity** dan **price** untuk memperoleh total nilai transaksi per produk."
   ]
  },
  {
   "cell_type": "code",
   "execution_count": 16,
   "id": "34c27bda",
   "metadata": {
    "execution": {
     "iopub.execute_input": "2025-02-05T18:06:20.879765Z",
     "iopub.status.busy": "2025-02-05T18:06:20.879393Z",
     "iopub.status.idle": "2025-02-05T18:06:20.895168Z",
     "shell.execute_reply": "2025-02-05T18:06:20.893987Z"
    },
    "executionInfo": {
     "elapsed": 6,
     "status": "ok",
     "timestamp": 1738341879773,
     "user": {
      "displayName": "Isma Dian Damara",
      "userId": "03128721927476324285"
     },
     "user_tz": -420
    },
    "id": "L4Fjn7DWvaaC",
    "outputId": "2251ad50-5841-4f8c-838e-5716bc863fd5",
    "papermill": {
     "duration": 0.037344,
     "end_time": "2025-02-05T18:06:20.897258",
     "exception": false,
     "start_time": "2025-02-05T18:06:20.859914",
     "status": "completed"
    },
    "tags": []
   },
   "outputs": [],
   "source": [
    "# membuat nilai amount, yaitu perkalian antara quantity dan price\n",
    "df_clean['amount'] = df_clean['quantity'] * df_clean['price']"
   ]
  },
  {
   "cell_type": "markdown",
   "id": "c17a985d",
   "metadata": {
    "id": "iErdEC2Xvbco",
    "papermill": {
     "duration": 0.018057,
     "end_time": "2025-02-05T18:06:20.933537",
     "exception": false,
     "start_time": "2025-02-05T18:06:20.915480",
     "status": "completed"
    },
    "tags": []
   },
   "source": [
    "#### **Mengganti Nama Produk yang Tidak Konsisten**\n",
    "Mengganti nama produk untuk setiap **product_code** yang memiliki beberapa nama produk dengan nama yang paling sering muncul, untuk menjaga konsistensi data."
   ]
  },
  {
   "cell_type": "code",
   "execution_count": 17,
   "id": "d5a471bc",
   "metadata": {
    "execution": {
     "iopub.execute_input": "2025-02-05T18:06:20.970457Z",
     "iopub.status.busy": "2025-02-05T18:06:20.970121Z",
     "iopub.status.idle": "2025-02-05T18:06:21.342865Z",
     "shell.execute_reply": "2025-02-05T18:06:21.341853Z"
    },
    "id": "ySE27ozhvlTa",
    "papermill": {
     "duration": 0.393705,
     "end_time": "2025-02-05T18:06:21.344898",
     "exception": false,
     "start_time": "2025-02-05T18:06:20.951193",
     "status": "completed"
    },
    "tags": []
   },
   "outputs": [],
   "source": [
    "# mengganti product_name dari product_code yang memiliki beberapa product_name\n",
    "most_freq_product_name = df_clean.groupby(['product_code','product_name'], as_index=False).agg(order_cnt=('order_id','nunique')).sort_values(['product_code','order_cnt'], ascending=[True,False])\n",
    "most_freq_product_name['rank'] = most_freq_product_name.groupby('product_code')['order_cnt'].rank(method='first', ascending=False)\n",
    "most_freq_product_name = most_freq_product_name[most_freq_product_name['rank']==1].drop(columns=['order_cnt','rank'])\n",
    "df_clean = df_clean.merge(most_freq_product_name.rename(columns={'product_name':'most_freq_product_name'}), how='left', on='product_code')\n",
    "df_clean['product_name'] = df_clean['most_freq_product_name']\n",
    "df_clean = df_clean.drop(columns='most_freq_product_name')"
   ]
  },
  {
   "cell_type": "markdown",
   "id": "71641be8",
   "metadata": {
    "id": "DeHwd91tvv0Q",
    "papermill": {
     "duration": 0.017217,
     "end_time": "2025-02-05T18:06:21.380056",
     "exception": false,
     "start_time": "2025-02-05T18:06:21.362839",
     "status": "completed"
    },
    "tags": []
   },
   "source": [
    "#### **Mengkonversi Customer ID**\n",
    "Mengubah kolom **customer_id** menjadi tipe data string untuk memastikan konsistensi data pada seluruh dataset. dan juga menghapus nilai dibelakang koma."
   ]
  },
  {
   "cell_type": "code",
   "execution_count": 18,
   "id": "d23b8468",
   "metadata": {
    "execution": {
     "iopub.execute_input": "2025-02-05T18:06:21.416809Z",
     "iopub.status.busy": "2025-02-05T18:06:21.416461Z",
     "iopub.status.idle": "2025-02-05T18:06:22.312810Z",
     "shell.execute_reply": "2025-02-05T18:06:22.311616Z"
    },
    "id": "wFKSApB1v4d6",
    "papermill": {
     "duration": 0.916964,
     "end_time": "2025-02-05T18:06:22.314782",
     "exception": false,
     "start_time": "2025-02-05T18:06:21.397818",
     "status": "completed"
    },
    "tags": []
   },
   "outputs": [],
   "source": [
    "# Mengkonversi customer_id menjadi string\n",
    "df_clean['customer_id'] = df_clean['customer_id'].astype(str)\n",
    "\n",
    "# Menghapus nilai di belakang koma (jika ada)\n",
    "df_clean['customer_id'] = df_clean['customer_id'].str.split('.').str[0]"
   ]
  },
  {
   "cell_type": "markdown",
   "id": "5088990e",
   "metadata": {
    "id": "ao8XCB_3v7JG",
    "papermill": {
     "duration": 0.017382,
     "end_time": "2025-02-05T18:06:22.349888",
     "exception": false,
     "start_time": "2025-02-05T18:06:22.332506",
     "status": "completed"
    },
    "tags": []
   },
   "source": [
    "#### **Menghapus Nilai Outlier**\n",
    "\n",
    "Menghapus baris yang mengandung nilai outlier pada kolom **quantity** dan **amount** menggunakan metode Z-Score. Outlier yang melebihi batas Z-Score 3 dianggap sebagai data yang tidak wajar."
   ]
  },
  {
   "cell_type": "code",
   "execution_count": 19,
   "id": "706c234a",
   "metadata": {
    "execution": {
     "iopub.execute_input": "2025-02-05T18:06:22.386125Z",
     "iopub.status.busy": "2025-02-05T18:06:22.385730Z",
     "iopub.status.idle": "2025-02-05T18:06:23.785101Z",
     "shell.execute_reply": "2025-02-05T18:06:23.783884Z"
    },
    "executionInfo": {
     "elapsed": 543,
     "status": "ok",
     "timestamp": 1738341881897,
     "user": {
      "displayName": "Isma Dian Damara",
      "userId": "03128721927476324285"
     },
     "user_tz": -420
    },
    "id": "Fskvcq1Ighho",
    "outputId": "4a533e51-f180-495c-c11a-2896cde41862",
    "papermill": {
     "duration": 1.419587,
     "end_time": "2025-02-05T18:06:23.786919",
     "exception": false,
     "start_time": "2025-02-05T18:06:22.367332",
     "status": "completed"
    },
    "tags": []
   },
   "outputs": [
    {
     "data": {
      "text/html": [
       "<div>\n",
       "<style scoped>\n",
       "    .dataframe tbody tr th:only-of-type {\n",
       "        vertical-align: middle;\n",
       "    }\n",
       "\n",
       "    .dataframe tbody tr th {\n",
       "        vertical-align: top;\n",
       "    }\n",
       "\n",
       "    .dataframe thead th {\n",
       "        text-align: right;\n",
       "    }\n",
       "</style>\n",
       "<table border=\"1\" class=\"dataframe\">\n",
       "  <thead>\n",
       "    <tr style=\"text-align: right;\">\n",
       "      <th></th>\n",
       "      <th>order_id</th>\n",
       "      <th>product_code</th>\n",
       "      <th>product_name</th>\n",
       "      <th>quantity</th>\n",
       "      <th>order_date</th>\n",
       "      <th>price</th>\n",
       "      <th>customer_id</th>\n",
       "      <th>date</th>\n",
       "      <th>year_month</th>\n",
       "      <th>order_status</th>\n",
       "      <th>amount</th>\n",
       "    </tr>\n",
       "  </thead>\n",
       "  <tbody>\n",
       "    <tr>\n",
       "      <th>0</th>\n",
       "      <td>C493411</td>\n",
       "      <td>21539</td>\n",
       "      <td>red retrospot butter dish</td>\n",
       "      <td>1</td>\n",
       "      <td>2010-01-04 09:43:00</td>\n",
       "      <td>4.25</td>\n",
       "      <td>14590</td>\n",
       "      <td>2010-01-04</td>\n",
       "      <td>2010-01</td>\n",
       "      <td>cancelled</td>\n",
       "      <td>4.25</td>\n",
       "    </tr>\n",
       "    <tr>\n",
       "      <th>1</th>\n",
       "      <td>493414</td>\n",
       "      <td>21844</td>\n",
       "      <td>red retrospot mug</td>\n",
       "      <td>36</td>\n",
       "      <td>2010-01-04 10:28:00</td>\n",
       "      <td>2.55</td>\n",
       "      <td>14590</td>\n",
       "      <td>2010-01-04</td>\n",
       "      <td>2010-01</td>\n",
       "      <td>delivered</td>\n",
       "      <td>91.80</td>\n",
       "    </tr>\n",
       "    <tr>\n",
       "      <th>2</th>\n",
       "      <td>493414</td>\n",
       "      <td>21533</td>\n",
       "      <td>retro spot large milk jug</td>\n",
       "      <td>12</td>\n",
       "      <td>2010-01-04 10:28:00</td>\n",
       "      <td>4.25</td>\n",
       "      <td>14590</td>\n",
       "      <td>2010-01-04</td>\n",
       "      <td>2010-01</td>\n",
       "      <td>delivered</td>\n",
       "      <td>51.00</td>\n",
       "    </tr>\n",
       "    <tr>\n",
       "      <th>3</th>\n",
       "      <td>493414</td>\n",
       "      <td>37508</td>\n",
       "      <td>new england ceramic cake server</td>\n",
       "      <td>2</td>\n",
       "      <td>2010-01-04 10:28:00</td>\n",
       "      <td>2.55</td>\n",
       "      <td>14590</td>\n",
       "      <td>2010-01-04</td>\n",
       "      <td>2010-01</td>\n",
       "      <td>delivered</td>\n",
       "      <td>5.10</td>\n",
       "    </tr>\n",
       "    <tr>\n",
       "      <th>4</th>\n",
       "      <td>493414</td>\n",
       "      <td>35001G</td>\n",
       "      <td>hand open shape gold</td>\n",
       "      <td>2</td>\n",
       "      <td>2010-01-04 10:28:00</td>\n",
       "      <td>4.25</td>\n",
       "      <td>14590</td>\n",
       "      <td>2010-01-04</td>\n",
       "      <td>2010-01</td>\n",
       "      <td>delivered</td>\n",
       "      <td>8.50</td>\n",
       "    </tr>\n",
       "    <tr>\n",
       "      <th>...</th>\n",
       "      <td>...</td>\n",
       "      <td>...</td>\n",
       "      <td>...</td>\n",
       "      <td>...</td>\n",
       "      <td>...</td>\n",
       "      <td>...</td>\n",
       "      <td>...</td>\n",
       "      <td>...</td>\n",
       "      <td>...</td>\n",
       "      <td>...</td>\n",
       "      <td>...</td>\n",
       "    </tr>\n",
       "    <tr>\n",
       "      <th>358464</th>\n",
       "      <td>539988</td>\n",
       "      <td>84380</td>\n",
       "      <td>set of 3 butterfly cookie cutters</td>\n",
       "      <td>1</td>\n",
       "      <td>2010-12-23 16:06:00</td>\n",
       "      <td>1.25</td>\n",
       "      <td>18116</td>\n",
       "      <td>2010-12-23</td>\n",
       "      <td>2010-12</td>\n",
       "      <td>delivered</td>\n",
       "      <td>1.25</td>\n",
       "    </tr>\n",
       "    <tr>\n",
       "      <th>358465</th>\n",
       "      <td>539988</td>\n",
       "      <td>84849D</td>\n",
       "      <td>hot baths soap holder</td>\n",
       "      <td>1</td>\n",
       "      <td>2010-12-23 16:06:00</td>\n",
       "      <td>1.69</td>\n",
       "      <td>18116</td>\n",
       "      <td>2010-12-23</td>\n",
       "      <td>2010-12</td>\n",
       "      <td>delivered</td>\n",
       "      <td>1.69</td>\n",
       "    </tr>\n",
       "    <tr>\n",
       "      <th>358466</th>\n",
       "      <td>539988</td>\n",
       "      <td>84849B</td>\n",
       "      <td>fairy soap soap holder</td>\n",
       "      <td>1</td>\n",
       "      <td>2010-12-23 16:06:00</td>\n",
       "      <td>1.69</td>\n",
       "      <td>18116</td>\n",
       "      <td>2010-12-23</td>\n",
       "      <td>2010-12</td>\n",
       "      <td>delivered</td>\n",
       "      <td>1.69</td>\n",
       "    </tr>\n",
       "    <tr>\n",
       "      <th>358467</th>\n",
       "      <td>539988</td>\n",
       "      <td>22854</td>\n",
       "      <td>cream sweetheart egg holder</td>\n",
       "      <td>2</td>\n",
       "      <td>2010-12-23 16:06:00</td>\n",
       "      <td>4.95</td>\n",
       "      <td>18116</td>\n",
       "      <td>2010-12-23</td>\n",
       "      <td>2010-12</td>\n",
       "      <td>delivered</td>\n",
       "      <td>9.90</td>\n",
       "    </tr>\n",
       "    <tr>\n",
       "      <th>358468</th>\n",
       "      <td>539988</td>\n",
       "      <td>47559B</td>\n",
       "      <td>tea time oven glove</td>\n",
       "      <td>2</td>\n",
       "      <td>2010-12-23 16:06:00</td>\n",
       "      <td>1.25</td>\n",
       "      <td>18116</td>\n",
       "      <td>2010-12-23</td>\n",
       "      <td>2010-12</td>\n",
       "      <td>delivered</td>\n",
       "      <td>2.50</td>\n",
       "    </tr>\n",
       "  </tbody>\n",
       "</table>\n",
       "<p>358469 rows × 11 columns</p>\n",
       "</div>"
      ],
      "text/plain": [
       "       order_id product_code                       product_name  quantity   \n",
       "0       C493411        21539          red retrospot butter dish         1  \\\n",
       "1        493414        21844                  red retrospot mug        36   \n",
       "2        493414        21533          retro spot large milk jug        12   \n",
       "3        493414        37508    new england ceramic cake server         2   \n",
       "4        493414       35001G               hand open shape gold         2   \n",
       "...         ...          ...                                ...       ...   \n",
       "358464   539988        84380  set of 3 butterfly cookie cutters         1   \n",
       "358465   539988       84849D              hot baths soap holder         1   \n",
       "358466   539988       84849B             fairy soap soap holder         1   \n",
       "358467   539988        22854        cream sweetheart egg holder         2   \n",
       "358468   539988       47559B                tea time oven glove         2   \n",
       "\n",
       "                order_date  price customer_id       date year_month   \n",
       "0      2010-01-04 09:43:00   4.25       14590 2010-01-04    2010-01  \\\n",
       "1      2010-01-04 10:28:00   2.55       14590 2010-01-04    2010-01   \n",
       "2      2010-01-04 10:28:00   4.25       14590 2010-01-04    2010-01   \n",
       "3      2010-01-04 10:28:00   2.55       14590 2010-01-04    2010-01   \n",
       "4      2010-01-04 10:28:00   4.25       14590 2010-01-04    2010-01   \n",
       "...                    ...    ...         ...        ...        ...   \n",
       "358464 2010-12-23 16:06:00   1.25       18116 2010-12-23    2010-12   \n",
       "358465 2010-12-23 16:06:00   1.69       18116 2010-12-23    2010-12   \n",
       "358466 2010-12-23 16:06:00   1.69       18116 2010-12-23    2010-12   \n",
       "358467 2010-12-23 16:06:00   4.95       18116 2010-12-23    2010-12   \n",
       "358468 2010-12-23 16:06:00   1.25       18116 2010-12-23    2010-12   \n",
       "\n",
       "       order_status  amount  \n",
       "0         cancelled    4.25  \n",
       "1         delivered   91.80  \n",
       "2         delivered   51.00  \n",
       "3         delivered    5.10  \n",
       "4         delivered    8.50  \n",
       "...             ...     ...  \n",
       "358464    delivered    1.25  \n",
       "358465    delivered    1.69  \n",
       "358466    delivered    1.69  \n",
       "358467    delivered    9.90  \n",
       "358468    delivered    2.50  \n",
       "\n",
       "[358469 rows x 11 columns]"
      ]
     },
     "execution_count": 19,
     "metadata": {},
     "output_type": "execute_result"
    }
   ],
   "source": [
    "# menghapus outlier\n",
    "from scipy import stats\n",
    "df_clean = df_clean[(np.abs(stats.zscore(df_clean[['quantity','amount']]))<3).all(axis=1)]\n",
    "\n",
    "# reset index\n",
    "df_clean = df_clean.reset_index(drop=True)\n",
    "df_clean"
   ]
  },
  {
   "cell_type": "code",
   "execution_count": 20,
   "id": "35c21a9d",
   "metadata": {
    "execution": {
     "iopub.execute_input": "2025-02-05T18:06:23.830703Z",
     "iopub.status.busy": "2025-02-05T18:06:23.830134Z",
     "iopub.status.idle": "2025-02-05T18:06:23.938315Z",
     "shell.execute_reply": "2025-02-05T18:06:23.936929Z"
    },
    "executionInfo": {
     "elapsed": 8,
     "status": "ok",
     "timestamp": 1738341881897,
     "user": {
      "displayName": "Isma Dian Damara",
      "userId": "03128721927476324285"
     },
     "user_tz": -420
    },
    "id": "EErY_yqw0yvY",
    "outputId": "ce4632a1-4aa4-406f-faef-f2eccd069e14",
    "papermill": {
     "duration": 0.132347,
     "end_time": "2025-02-05T18:06:23.940061",
     "exception": false,
     "start_time": "2025-02-05T18:06:23.807714",
     "status": "completed"
    },
    "tags": []
   },
   "outputs": [
    {
     "name": "stdout",
     "output_type": "stream",
     "text": [
      "<class 'pandas.core.frame.DataFrame'>\n",
      "RangeIndex: 358469 entries, 0 to 358468\n",
      "Data columns (total 11 columns):\n",
      " #   Column        Non-Null Count   Dtype         \n",
      "---  ------        --------------   -----         \n",
      " 0   order_id      358469 non-null  object        \n",
      " 1   product_code  358469 non-null  object        \n",
      " 2   product_name  358469 non-null  object        \n",
      " 3   quantity      358469 non-null  int64         \n",
      " 4   order_date    358469 non-null  datetime64[ns]\n",
      " 5   price         358469 non-null  float64       \n",
      " 6   customer_id   358469 non-null  object        \n",
      " 7   date          358469 non-null  datetime64[ns]\n",
      " 8   year_month    358469 non-null  period[M]     \n",
      " 9   order_status  358469 non-null  object        \n",
      " 10  amount        358469 non-null  float64       \n",
      "dtypes: datetime64[ns](2), float64(2), int64(1), object(5), period[M](1)\n",
      "memory usage: 30.1+ MB\n"
     ]
    }
   ],
   "source": [
    "df_clean.info()"
   ]
  },
  {
   "cell_type": "markdown",
   "id": "5d25c096",
   "metadata": {
    "id": "gbhRqJQRqQGz",
    "papermill": {
     "duration": 0.019597,
     "end_time": "2025-02-05T18:06:23.978607",
     "exception": false,
     "start_time": "2025-02-05T18:06:23.959010",
     "status": "completed"
    },
    "tags": []
   },
   "source": [
    "### **Clean Data**"
   ]
  },
  {
   "cell_type": "code",
   "execution_count": 21,
   "id": "94b6cd9a",
   "metadata": {
    "execution": {
     "iopub.execute_input": "2025-02-05T18:06:24.016334Z",
     "iopub.status.busy": "2025-02-05T18:06:24.015922Z",
     "iopub.status.idle": "2025-02-05T18:06:27.110140Z",
     "shell.execute_reply": "2025-02-05T18:06:27.108957Z"
    },
    "id": "FLLaESOQqT4N",
    "papermill": {
     "duration": 3.115288,
     "end_time": "2025-02-05T18:06:27.112114",
     "exception": false,
     "start_time": "2025-02-05T18:06:23.996826",
     "status": "completed"
    },
    "tags": []
   },
   "outputs": [],
   "source": [
    "df_clean.to_csv('../data/Online_Retail_Data_Clean.csv', index=False)"
   ]
  },
  {
   "cell_type": "markdown",
   "id": "600ce252",
   "metadata": {
    "id": "9yw6qTu_0kja",
    "papermill": {
     "duration": 0.018221,
     "end_time": "2025-02-05T18:06:27.152085",
     "exception": false,
     "start_time": "2025-02-05T18:06:27.133864",
     "status": "completed"
    },
    "tags": []
   },
   "source": [
    "## **CUSTOMER RETENTION RATE (Cohort Analysis)**\n",
    "\n",
    "User Retention Rate adalah metrik yang digunakan untuk mengukur persentase pelanggan yang kembali melakukan pembelian pada periode berikutnya, seperti bulan atau tahun, guna mengevaluasi tingkat loyalitas pelanggan dan efektivitas strategi retensi."
   ]
  },
  {
   "cell_type": "markdown",
   "id": "20e72fc6",
   "metadata": {
    "id": "jRv_r6mX0t9n",
    "papermill": {
     "duration": 0.017822,
     "end_time": "2025-02-05T18:06:27.188032",
     "exception": false,
     "start_time": "2025-02-05T18:06:27.170210",
     "status": "completed"
    },
    "tags": []
   },
   "source": [
    "### **Agregat data transaksi ke bentuk summary total transaksi/order setiap pengguna setiap bulan**\n",
    "\n",
    "Menghitung total pesanan yang dilakukan oleh setiap pelanggan setiap bulan, untuk melihat seberapa sering mereka melakukan transaksi di setiap bulan."
   ]
  },
  {
   "cell_type": "code",
   "execution_count": 22,
   "id": "b4edadb6",
   "metadata": {
    "execution": {
     "iopub.execute_input": "2025-02-05T18:06:27.225914Z",
     "iopub.status.busy": "2025-02-05T18:06:27.225525Z",
     "iopub.status.idle": "2025-02-05T18:06:27.316851Z",
     "shell.execute_reply": "2025-02-05T18:06:27.315565Z"
    },
    "executionInfo": {
     "elapsed": 54,
     "status": "ok",
     "timestamp": 1735035602311,
     "user": {
      "displayName": "Isma Dian Damara",
      "userId": "03128721927476324285"
     },
     "user_tz": -420
    },
    "id": "fepYkwQ8xITH",
    "outputId": "ab6d4f4e-825b-4f15-8bb9-159aade10b7d",
    "papermill": {
     "duration": 0.112478,
     "end_time": "2025-02-05T18:06:27.318651",
     "exception": false,
     "start_time": "2025-02-05T18:06:27.206173",
     "status": "completed"
    },
    "tags": []
   },
   "outputs": [
    {
     "data": {
      "text/html": [
       "<div>\n",
       "<style scoped>\n",
       "    .dataframe tbody tr th:only-of-type {\n",
       "        vertical-align: middle;\n",
       "    }\n",
       "\n",
       "    .dataframe tbody tr th {\n",
       "        vertical-align: top;\n",
       "    }\n",
       "\n",
       "    .dataframe thead th {\n",
       "        text-align: right;\n",
       "    }\n",
       "</style>\n",
       "<table border=\"1\" class=\"dataframe\">\n",
       "  <thead>\n",
       "    <tr style=\"text-align: right;\">\n",
       "      <th></th>\n",
       "      <th>customer_id</th>\n",
       "      <th>year_month</th>\n",
       "      <th>order_cnt</th>\n",
       "    </tr>\n",
       "  </thead>\n",
       "  <tbody>\n",
       "    <tr>\n",
       "      <th>0</th>\n",
       "      <td>12346</td>\n",
       "      <td>2010-01</td>\n",
       "      <td>1</td>\n",
       "    </tr>\n",
       "    <tr>\n",
       "      <th>1</th>\n",
       "      <td>12346</td>\n",
       "      <td>2010-03</td>\n",
       "      <td>1</td>\n",
       "    </tr>\n",
       "    <tr>\n",
       "      <th>2</th>\n",
       "      <td>12346</td>\n",
       "      <td>2010-06</td>\n",
       "      <td>2</td>\n",
       "    </tr>\n",
       "    <tr>\n",
       "      <th>3</th>\n",
       "      <td>12346</td>\n",
       "      <td>2010-10</td>\n",
       "      <td>1</td>\n",
       "    </tr>\n",
       "    <tr>\n",
       "      <th>4</th>\n",
       "      <td>12608</td>\n",
       "      <td>2010-10</td>\n",
       "      <td>1</td>\n",
       "    </tr>\n",
       "  </tbody>\n",
       "</table>\n",
       "</div>"
      ],
      "text/plain": [
       "  customer_id year_month  order_cnt\n",
       "0       12346    2010-01          1\n",
       "1       12346    2010-03          1\n",
       "2       12346    2010-06          2\n",
       "3       12346    2010-10          1\n",
       "4       12608    2010-10          1"
      ]
     },
     "execution_count": 22,
     "metadata": {},
     "output_type": "execute_result"
    }
   ],
   "source": [
    "# Mengelompokkan data berdasarkan `customer_id` dan `year_month`,\n",
    "# lalu menghitung jumlah pesanan unik (`order_id`) untuk setiap kombinasi tersebut.\n",
    "df_user_monthly = df_clean.groupby(['customer_id','year_month'], as_index=False).agg(order_cnt=('order_id','nunique'))\n",
    "\n",
    "df_user_monthly.head()"
   ]
  },
  {
   "cell_type": "markdown",
   "id": "be17b378",
   "metadata": {
    "id": "Fa8F6DLr2bgD",
    "papermill": {
     "duration": 0.018131,
     "end_time": "2025-02-05T18:06:27.355181",
     "exception": false,
     "start_time": "2025-02-05T18:06:27.337050",
     "status": "completed"
    },
    "tags": []
   },
   "source": [
    "### **Membuat kolom sebagai cohort dari pengguna**\n",
    "\n",
    "Menambahkan kolom `cohort` yang berisi bulan pertama (min) setiap pelanggan (`customer_id`) berdasarkan `year_month`. Untuk mengetahui bulan pertama saat melakukan transaksi pada masing-masing customer"
   ]
  },
  {
   "cell_type": "code",
   "execution_count": 23,
   "id": "9bdfd781",
   "metadata": {
    "execution": {
     "iopub.execute_input": "2025-02-05T18:06:27.393699Z",
     "iopub.status.busy": "2025-02-05T18:06:27.393297Z",
     "iopub.status.idle": "2025-02-05T18:06:27.413777Z",
     "shell.execute_reply": "2025-02-05T18:06:27.412651Z"
    },
    "executionInfo": {
     "elapsed": 51,
     "status": "ok",
     "timestamp": 1735035602311,
     "user": {
      "displayName": "Isma Dian Damara",
      "userId": "03128721927476324285"
     },
     "user_tz": -420
    },
    "id": "7cTIkisf1gLd",
    "outputId": "d64a41db-b383-42c6-bfa1-c5721c71878e",
    "papermill": {
     "duration": 0.041952,
     "end_time": "2025-02-05T18:06:27.415675",
     "exception": false,
     "start_time": "2025-02-05T18:06:27.373723",
     "status": "completed"
    },
    "tags": []
   },
   "outputs": [
    {
     "data": {
      "text/html": [
       "<div>\n",
       "<style scoped>\n",
       "    .dataframe tbody tr th:only-of-type {\n",
       "        vertical-align: middle;\n",
       "    }\n",
       "\n",
       "    .dataframe tbody tr th {\n",
       "        vertical-align: top;\n",
       "    }\n",
       "\n",
       "    .dataframe thead th {\n",
       "        text-align: right;\n",
       "    }\n",
       "</style>\n",
       "<table border=\"1\" class=\"dataframe\">\n",
       "  <thead>\n",
       "    <tr style=\"text-align: right;\">\n",
       "      <th></th>\n",
       "      <th>customer_id</th>\n",
       "      <th>year_month</th>\n",
       "      <th>order_cnt</th>\n",
       "      <th>cohort</th>\n",
       "    </tr>\n",
       "  </thead>\n",
       "  <tbody>\n",
       "    <tr>\n",
       "      <th>0</th>\n",
       "      <td>12346</td>\n",
       "      <td>2010-01</td>\n",
       "      <td>1</td>\n",
       "      <td>2010-01</td>\n",
       "    </tr>\n",
       "    <tr>\n",
       "      <th>1</th>\n",
       "      <td>12346</td>\n",
       "      <td>2010-03</td>\n",
       "      <td>1</td>\n",
       "      <td>2010-01</td>\n",
       "    </tr>\n",
       "    <tr>\n",
       "      <th>2</th>\n",
       "      <td>12346</td>\n",
       "      <td>2010-06</td>\n",
       "      <td>2</td>\n",
       "      <td>2010-01</td>\n",
       "    </tr>\n",
       "    <tr>\n",
       "      <th>3</th>\n",
       "      <td>12346</td>\n",
       "      <td>2010-10</td>\n",
       "      <td>1</td>\n",
       "      <td>2010-01</td>\n",
       "    </tr>\n",
       "    <tr>\n",
       "      <th>4</th>\n",
       "      <td>12608</td>\n",
       "      <td>2010-10</td>\n",
       "      <td>1</td>\n",
       "      <td>2010-10</td>\n",
       "    </tr>\n",
       "  </tbody>\n",
       "</table>\n",
       "</div>"
      ],
      "text/plain": [
       "  customer_id year_month  order_cnt   cohort\n",
       "0       12346    2010-01          1  2010-01\n",
       "1       12346    2010-03          1  2010-01\n",
       "2       12346    2010-06          2  2010-01\n",
       "3       12346    2010-10          1  2010-01\n",
       "4       12608    2010-10          1  2010-10"
      ]
     },
     "execution_count": 23,
     "metadata": {},
     "output_type": "execute_result"
    }
   ],
   "source": [
    "df_user_monthly['cohort'] = df_user_monthly.groupby('customer_id')['year_month'].transform('min')\n",
    "\n",
    "df_user_monthly.head()"
   ]
  },
  {
   "cell_type": "markdown",
   "id": "c07e9a75",
   "metadata": {
    "id": "AlkwdZqv3Y3w",
    "papermill": {
     "duration": 0.018554,
     "end_time": "2025-02-05T18:06:27.453141",
     "exception": false,
     "start_time": "2025-02-05T18:06:27.434587",
     "status": "completed"
    },
    "tags": []
   },
   "source": [
    "### **Menghitung Jarak Bulan Transaksi dari Bulan Pertama dan Menambahkan 1 untuk Menandakan Bulan Pertama**\n",
    "\n",
    "Menghitung selisih bulan antara bulan transaksi dengan bulan pertama kali transaksi untuk setiap pelanggan, kemudian menambahkan 1 pada hasil perhitungan agar bulan pertama transaksi dihitung sebagai bulan 1, bulan kedua sebagai bulan 2, dan seterusnya. Ini bertujuan untuk memberikan urutan bulan yang lebih jelas berdasarkan periode transaksi pertama setiap pelanggan."
   ]
  },
  {
   "cell_type": "code",
   "execution_count": 24,
   "id": "405b1441",
   "metadata": {
    "execution": {
     "iopub.execute_input": "2025-02-05T18:06:27.491743Z",
     "iopub.status.busy": "2025-02-05T18:06:27.491326Z",
     "iopub.status.idle": "2025-02-05T18:06:27.550568Z",
     "shell.execute_reply": "2025-02-05T18:06:27.549397Z"
    },
    "executionInfo": {
     "elapsed": 50,
     "status": "ok",
     "timestamp": 1735035602312,
     "user": {
      "displayName": "Isma Dian Damara",
      "userId": "03128721927476324285"
     },
     "user_tz": -420
    },
    "id": "-xD-wYXJ2okX",
    "outputId": "e53e1a18-27e4-4aed-87b9-fdcdd1c8e145",
    "papermill": {
     "duration": 0.080757,
     "end_time": "2025-02-05T18:06:27.552492",
     "exception": false,
     "start_time": "2025-02-05T18:06:27.471735",
     "status": "completed"
    },
    "tags": []
   },
   "outputs": [
    {
     "data": {
      "text/html": [
       "<div>\n",
       "<style scoped>\n",
       "    .dataframe tbody tr th:only-of-type {\n",
       "        vertical-align: middle;\n",
       "    }\n",
       "\n",
       "    .dataframe tbody tr th {\n",
       "        vertical-align: top;\n",
       "    }\n",
       "\n",
       "    .dataframe thead th {\n",
       "        text-align: right;\n",
       "    }\n",
       "</style>\n",
       "<table border=\"1\" class=\"dataframe\">\n",
       "  <thead>\n",
       "    <tr style=\"text-align: right;\">\n",
       "      <th></th>\n",
       "      <th>customer_id</th>\n",
       "      <th>year_month</th>\n",
       "      <th>order_cnt</th>\n",
       "      <th>cohort</th>\n",
       "      <th>period_num</th>\n",
       "    </tr>\n",
       "  </thead>\n",
       "  <tbody>\n",
       "    <tr>\n",
       "      <th>0</th>\n",
       "      <td>12346</td>\n",
       "      <td>2010-01</td>\n",
       "      <td>1</td>\n",
       "      <td>2010-01</td>\n",
       "      <td>1</td>\n",
       "    </tr>\n",
       "    <tr>\n",
       "      <th>1</th>\n",
       "      <td>12346</td>\n",
       "      <td>2010-03</td>\n",
       "      <td>1</td>\n",
       "      <td>2010-01</td>\n",
       "      <td>3</td>\n",
       "    </tr>\n",
       "    <tr>\n",
       "      <th>2</th>\n",
       "      <td>12346</td>\n",
       "      <td>2010-06</td>\n",
       "      <td>2</td>\n",
       "      <td>2010-01</td>\n",
       "      <td>6</td>\n",
       "    </tr>\n",
       "    <tr>\n",
       "      <th>3</th>\n",
       "      <td>12346</td>\n",
       "      <td>2010-10</td>\n",
       "      <td>1</td>\n",
       "      <td>2010-01</td>\n",
       "      <td>10</td>\n",
       "    </tr>\n",
       "    <tr>\n",
       "      <th>4</th>\n",
       "      <td>12608</td>\n",
       "      <td>2010-10</td>\n",
       "      <td>1</td>\n",
       "      <td>2010-10</td>\n",
       "      <td>1</td>\n",
       "    </tr>\n",
       "  </tbody>\n",
       "</table>\n",
       "</div>"
      ],
      "text/plain": [
       "  customer_id year_month  order_cnt   cohort  period_num\n",
       "0       12346    2010-01          1  2010-01           1\n",
       "1       12346    2010-03          1  2010-01           3\n",
       "2       12346    2010-06          2  2010-01           6\n",
       "3       12346    2010-10          1  2010-01          10\n",
       "4       12608    2010-10          1  2010-10           1"
      ]
     },
     "execution_count": 24,
     "metadata": {},
     "output_type": "execute_result"
    }
   ],
   "source": [
    "from operator import attrgetter # Mengimpor fungsi untuk mengambil atribut objek.\n",
    "\n",
    "# Menghitung selisih bulan antara transaksi dan bulan pertama pembelian\n",
    "# (cohort), lalu ditambah 1 agar periode dimulai dari 1.\n",
    "df_user_monthly['period_num'] = (df_user_monthly['year_month'] - df_user_monthly['cohort']).apply(attrgetter('n')) + 1\n",
    "\n",
    "# Menampilkan DataFrame dengan kolom 'period_num' yang baru ditambahkan.\n",
    "df_user_monthly.head()"
   ]
  },
  {
   "cell_type": "markdown",
   "id": "29b3f7a2",
   "metadata": {
    "id": "3rhnO0mr42Ty",
    "papermill": {
     "duration": 0.018558,
     "end_time": "2025-02-05T18:06:27.590609",
     "exception": false,
     "start_time": "2025-02-05T18:06:27.572051",
     "status": "completed"
    },
    "tags": []
   },
   "source": [
    "### **Membuat Tabel Pivot untuk Pengguna Unik Berdasarkan Cohort dan Jarak Bulan**\n",
    "\n",
    "Tabel pivot ini menggunakan **cohort** sebagai indeks, **jarak bulan** sebagai kolom, dan nilai yang dihitung adalah jumlah **pengguna unik** (berdasarkan ID pengguna) untuk setiap kombinasi cohort dan jarak bulan."
   ]
  },
  {
   "cell_type": "code",
   "execution_count": 25,
   "id": "5dd4a052",
   "metadata": {
    "execution": {
     "iopub.execute_input": "2025-02-05T18:06:27.629525Z",
     "iopub.status.busy": "2025-02-05T18:06:27.629162Z",
     "iopub.status.idle": "2025-02-05T18:06:27.681940Z",
     "shell.execute_reply": "2025-02-05T18:06:27.680532Z"
    },
    "executionInfo": {
     "elapsed": 49,
     "status": "ok",
     "timestamp": 1735035602312,
     "user": {
      "displayName": "Isma Dian Damara",
      "userId": "03128721927476324285"
     },
     "user_tz": -420
    },
    "id": "ZC6Dvnqf4oXr",
    "outputId": "40e41c46-4590-4439-dfa8-08bc46ade2e9",
    "papermill": {
     "duration": 0.074101,
     "end_time": "2025-02-05T18:06:27.683550",
     "exception": false,
     "start_time": "2025-02-05T18:06:27.609449",
     "status": "completed"
    },
    "tags": []
   },
   "outputs": [
    {
     "data": {
      "text/html": [
       "<div>\n",
       "<style scoped>\n",
       "    .dataframe tbody tr th:only-of-type {\n",
       "        vertical-align: middle;\n",
       "    }\n",
       "\n",
       "    .dataframe tbody tr th {\n",
       "        vertical-align: top;\n",
       "    }\n",
       "\n",
       "    .dataframe thead th {\n",
       "        text-align: right;\n",
       "    }\n",
       "</style>\n",
       "<table border=\"1\" class=\"dataframe\">\n",
       "  <thead>\n",
       "    <tr style=\"text-align: right;\">\n",
       "      <th>period_num</th>\n",
       "      <th>1</th>\n",
       "      <th>2</th>\n",
       "      <th>3</th>\n",
       "      <th>4</th>\n",
       "      <th>5</th>\n",
       "      <th>6</th>\n",
       "      <th>7</th>\n",
       "      <th>8</th>\n",
       "      <th>9</th>\n",
       "      <th>10</th>\n",
       "      <th>11</th>\n",
       "      <th>12</th>\n",
       "    </tr>\n",
       "    <tr>\n",
       "      <th>cohort</th>\n",
       "      <th></th>\n",
       "      <th></th>\n",
       "      <th></th>\n",
       "      <th></th>\n",
       "      <th></th>\n",
       "      <th></th>\n",
       "      <th></th>\n",
       "      <th></th>\n",
       "      <th></th>\n",
       "      <th></th>\n",
       "      <th></th>\n",
       "      <th></th>\n",
       "    </tr>\n",
       "  </thead>\n",
       "  <tbody>\n",
       "    <tr>\n",
       "      <th>2010-01</th>\n",
       "      <td>713.0</td>\n",
       "      <td>280.0</td>\n",
       "      <td>334.0</td>\n",
       "      <td>313.0</td>\n",
       "      <td>305.0</td>\n",
       "      <td>304.0</td>\n",
       "      <td>293.0</td>\n",
       "      <td>268.0</td>\n",
       "      <td>285.0</td>\n",
       "      <td>319.0</td>\n",
       "      <td>335.0</td>\n",
       "      <td>249.0</td>\n",
       "    </tr>\n",
       "    <tr>\n",
       "      <th>2010-02</th>\n",
       "      <td>461.0</td>\n",
       "      <td>154.0</td>\n",
       "      <td>128.0</td>\n",
       "      <td>161.0</td>\n",
       "      <td>152.0</td>\n",
       "      <td>121.0</td>\n",
       "      <td>119.0</td>\n",
       "      <td>159.0</td>\n",
       "      <td>153.0</td>\n",
       "      <td>166.0</td>\n",
       "      <td>100.0</td>\n",
       "      <td>NaN</td>\n",
       "    </tr>\n",
       "    <tr>\n",
       "      <th>2010-03</th>\n",
       "      <td>528.0</td>\n",
       "      <td>146.0</td>\n",
       "      <td>158.0</td>\n",
       "      <td>145.0</td>\n",
       "      <td>140.0</td>\n",
       "      <td>123.0</td>\n",
       "      <td>149.0</td>\n",
       "      <td>186.0</td>\n",
       "      <td>193.0</td>\n",
       "      <td>96.0</td>\n",
       "      <td>NaN</td>\n",
       "      <td>NaN</td>\n",
       "    </tr>\n",
       "    <tr>\n",
       "      <th>2010-04</th>\n",
       "      <td>326.0</td>\n",
       "      <td>82.0</td>\n",
       "      <td>75.0</td>\n",
       "      <td>63.0</td>\n",
       "      <td>69.0</td>\n",
       "      <td>79.0</td>\n",
       "      <td>98.0</td>\n",
       "      <td>101.0</td>\n",
       "      <td>50.0</td>\n",
       "      <td>NaN</td>\n",
       "      <td>NaN</td>\n",
       "      <td>NaN</td>\n",
       "    </tr>\n",
       "    <tr>\n",
       "      <th>2010-05</th>\n",
       "      <td>274.0</td>\n",
       "      <td>55.0</td>\n",
       "      <td>50.0</td>\n",
       "      <td>52.0</td>\n",
       "      <td>52.0</td>\n",
       "      <td>72.0</td>\n",
       "      <td>67.0</td>\n",
       "      <td>43.0</td>\n",
       "      <td>NaN</td>\n",
       "      <td>NaN</td>\n",
       "      <td>NaN</td>\n",
       "      <td>NaN</td>\n",
       "    </tr>\n",
       "    <tr>\n",
       "      <th>2010-06</th>\n",
       "      <td>266.0</td>\n",
       "      <td>53.0</td>\n",
       "      <td>56.0</td>\n",
       "      <td>60.0</td>\n",
       "      <td>65.0</td>\n",
       "      <td>85.0</td>\n",
       "      <td>39.0</td>\n",
       "      <td>NaN</td>\n",
       "      <td>NaN</td>\n",
       "      <td>NaN</td>\n",
       "      <td>NaN</td>\n",
       "      <td>NaN</td>\n",
       "    </tr>\n",
       "    <tr>\n",
       "      <th>2010-07</th>\n",
       "      <td>179.0</td>\n",
       "      <td>38.0</td>\n",
       "      <td>37.0</td>\n",
       "      <td>52.0</td>\n",
       "      <td>53.0</td>\n",
       "      <td>30.0</td>\n",
       "      <td>NaN</td>\n",
       "      <td>NaN</td>\n",
       "      <td>NaN</td>\n",
       "      <td>NaN</td>\n",
       "      <td>NaN</td>\n",
       "      <td>NaN</td>\n",
       "    </tr>\n",
       "    <tr>\n",
       "      <th>2010-08</th>\n",
       "      <td>160.0</td>\n",
       "      <td>35.0</td>\n",
       "      <td>50.0</td>\n",
       "      <td>48.0</td>\n",
       "      <td>27.0</td>\n",
       "      <td>NaN</td>\n",
       "      <td>NaN</td>\n",
       "      <td>NaN</td>\n",
       "      <td>NaN</td>\n",
       "      <td>NaN</td>\n",
       "      <td>NaN</td>\n",
       "      <td>NaN</td>\n",
       "    </tr>\n",
       "    <tr>\n",
       "      <th>2010-09</th>\n",
       "      <td>227.0</td>\n",
       "      <td>64.0</td>\n",
       "      <td>60.0</td>\n",
       "      <td>31.0</td>\n",
       "      <td>NaN</td>\n",
       "      <td>NaN</td>\n",
       "      <td>NaN</td>\n",
       "      <td>NaN</td>\n",
       "      <td>NaN</td>\n",
       "      <td>NaN</td>\n",
       "      <td>NaN</td>\n",
       "      <td>NaN</td>\n",
       "    </tr>\n",
       "    <tr>\n",
       "      <th>2010-10</th>\n",
       "      <td>362.0</td>\n",
       "      <td>103.0</td>\n",
       "      <td>61.0</td>\n",
       "      <td>NaN</td>\n",
       "      <td>NaN</td>\n",
       "      <td>NaN</td>\n",
       "      <td>NaN</td>\n",
       "      <td>NaN</td>\n",
       "      <td>NaN</td>\n",
       "      <td>NaN</td>\n",
       "      <td>NaN</td>\n",
       "      <td>NaN</td>\n",
       "    </tr>\n",
       "    <tr>\n",
       "      <th>2010-11</th>\n",
       "      <td>327.0</td>\n",
       "      <td>66.0</td>\n",
       "      <td>NaN</td>\n",
       "      <td>NaN</td>\n",
       "      <td>NaN</td>\n",
       "      <td>NaN</td>\n",
       "      <td>NaN</td>\n",
       "      <td>NaN</td>\n",
       "      <td>NaN</td>\n",
       "      <td>NaN</td>\n",
       "      <td>NaN</td>\n",
       "      <td>NaN</td>\n",
       "    </tr>\n",
       "    <tr>\n",
       "      <th>2010-12</th>\n",
       "      <td>66.0</td>\n",
       "      <td>NaN</td>\n",
       "      <td>NaN</td>\n",
       "      <td>NaN</td>\n",
       "      <td>NaN</td>\n",
       "      <td>NaN</td>\n",
       "      <td>NaN</td>\n",
       "      <td>NaN</td>\n",
       "      <td>NaN</td>\n",
       "      <td>NaN</td>\n",
       "      <td>NaN</td>\n",
       "      <td>NaN</td>\n",
       "    </tr>\n",
       "  </tbody>\n",
       "</table>\n",
       "</div>"
      ],
      "text/plain": [
       "period_num     1      2      3      4      5      6      7      8      9    \n",
       "cohort                                                                      \n",
       "2010-01     713.0  280.0  334.0  313.0  305.0  304.0  293.0  268.0  285.0  \\\n",
       "2010-02     461.0  154.0  128.0  161.0  152.0  121.0  119.0  159.0  153.0   \n",
       "2010-03     528.0  146.0  158.0  145.0  140.0  123.0  149.0  186.0  193.0   \n",
       "2010-04     326.0   82.0   75.0   63.0   69.0   79.0   98.0  101.0   50.0   \n",
       "2010-05     274.0   55.0   50.0   52.0   52.0   72.0   67.0   43.0    NaN   \n",
       "2010-06     266.0   53.0   56.0   60.0   65.0   85.0   39.0    NaN    NaN   \n",
       "2010-07     179.0   38.0   37.0   52.0   53.0   30.0    NaN    NaN    NaN   \n",
       "2010-08     160.0   35.0   50.0   48.0   27.0    NaN    NaN    NaN    NaN   \n",
       "2010-09     227.0   64.0   60.0   31.0    NaN    NaN    NaN    NaN    NaN   \n",
       "2010-10     362.0  103.0   61.0    NaN    NaN    NaN    NaN    NaN    NaN   \n",
       "2010-11     327.0   66.0    NaN    NaN    NaN    NaN    NaN    NaN    NaN   \n",
       "2010-12      66.0    NaN    NaN    NaN    NaN    NaN    NaN    NaN    NaN   \n",
       "\n",
       "period_num     10     11     12  \n",
       "cohort                           \n",
       "2010-01     319.0  335.0  249.0  \n",
       "2010-02     166.0  100.0    NaN  \n",
       "2010-03      96.0    NaN    NaN  \n",
       "2010-04       NaN    NaN    NaN  \n",
       "2010-05       NaN    NaN    NaN  \n",
       "2010-06       NaN    NaN    NaN  \n",
       "2010-07       NaN    NaN    NaN  \n",
       "2010-08       NaN    NaN    NaN  \n",
       "2010-09       NaN    NaN    NaN  \n",
       "2010-10       NaN    NaN    NaN  \n",
       "2010-11       NaN    NaN    NaN  \n",
       "2010-12       NaN    NaN    NaN  "
      ]
     },
     "execution_count": 25,
     "metadata": {},
     "output_type": "execute_result"
    }
   ],
   "source": [
    "# membuat tabel pivot\n",
    "df_cohort_pivot = pd.pivot_table(df_user_monthly, index='cohort', columns='period_num', values='customer_id', aggfunc=pd.Series.nunique)\n",
    "df_cohort_pivot"
   ]
  },
  {
   "cell_type": "markdown",
   "id": "921a38cb",
   "metadata": {
    "id": "gGksI6VA5uWo",
    "papermill": {
     "duration": 0.019024,
     "end_time": "2025-02-05T18:06:27.722119",
     "exception": false,
     "start_time": "2025-02-05T18:06:27.703095",
     "status": "completed"
    },
    "tags": []
   },
   "source": [
    "### **Menghitung Retention Rate Berdasarkan Cohort Pengguna**\n",
    "\n",
    "Menghitung jumlah pengguna yang pertama kali bertransaksi di setiap bulan (cohort), lalu membagi nilai pada tabel pivot dengan jumlah pengguna di masing-masing cohort untuk mendapatkan retention rate, yang menunjukkan persentase pengguna yang kembali bertransaksi di bulan-bulan berikutnya."
   ]
  },
  {
   "cell_type": "code",
   "execution_count": 26,
   "id": "ee3ea991",
   "metadata": {
    "execution": {
     "iopub.execute_input": "2025-02-05T18:06:27.763291Z",
     "iopub.status.busy": "2025-02-05T18:06:27.762881Z",
     "iopub.status.idle": "2025-02-05T18:06:27.770951Z",
     "shell.execute_reply": "2025-02-05T18:06:27.769792Z"
    },
    "executionInfo": {
     "elapsed": 47,
     "status": "ok",
     "timestamp": 1735035602312,
     "user": {
      "displayName": "Isma Dian Damara",
      "userId": "03128721927476324285"
     },
     "user_tz": -420
    },
    "id": "3PfCfxmi5Z9B",
    "outputId": "a34059e6-aca8-4907-fdd1-cf84a78ef2df",
    "papermill": {
     "duration": 0.030527,
     "end_time": "2025-02-05T18:06:27.772932",
     "exception": false,
     "start_time": "2025-02-05T18:06:27.742405",
     "status": "completed"
    },
    "tags": []
   },
   "outputs": [
    {
     "data": {
      "text/plain": [
       "cohort\n",
       "2010-01    713.0\n",
       "2010-02    461.0\n",
       "2010-03    528.0\n",
       "2010-04    326.0\n",
       "2010-05    274.0\n",
       "2010-06    266.0\n",
       "2010-07    179.0\n",
       "2010-08    160.0\n",
       "2010-09    227.0\n",
       "2010-10    362.0\n",
       "2010-11    327.0\n",
       "2010-12     66.0\n",
       "Freq: M, Name: 1, dtype: float64"
      ]
     },
     "execution_count": 26,
     "metadata": {},
     "output_type": "execute_result"
    }
   ],
   "source": [
    "# Jumlah pengguna unik di setiap cohort (periode pertama).\n",
    "cohort_size = df_cohort_pivot.iloc[:, 0]\n",
    "\n",
    "cohort_size"
   ]
  },
  {
   "cell_type": "code",
   "execution_count": 27,
   "id": "8450c8ea",
   "metadata": {
    "execution": {
     "iopub.execute_input": "2025-02-05T18:06:27.813774Z",
     "iopub.status.busy": "2025-02-05T18:06:27.813351Z",
     "iopub.status.idle": "2025-02-05T18:06:27.833384Z",
     "shell.execute_reply": "2025-02-05T18:06:27.832241Z"
    },
    "executionInfo": {
     "elapsed": 45,
     "status": "ok",
     "timestamp": 1735035602312,
     "user": {
      "displayName": "Isma Dian Damara",
      "userId": "03128721927476324285"
     },
     "user_tz": -420
    },
    "id": "sy2e7E1t6RFl",
    "outputId": "e44c688b-39c6-4a80-9416-1619500df1d0",
    "papermill": {
     "duration": 0.042705,
     "end_time": "2025-02-05T18:06:27.835210",
     "exception": false,
     "start_time": "2025-02-05T18:06:27.792505",
     "status": "completed"
    },
    "tags": []
   },
   "outputs": [
    {
     "data": {
      "text/html": [
       "<div>\n",
       "<style scoped>\n",
       "    .dataframe tbody tr th:only-of-type {\n",
       "        vertical-align: middle;\n",
       "    }\n",
       "\n",
       "    .dataframe tbody tr th {\n",
       "        vertical-align: top;\n",
       "    }\n",
       "\n",
       "    .dataframe thead th {\n",
       "        text-align: right;\n",
       "    }\n",
       "</style>\n",
       "<table border=\"1\" class=\"dataframe\">\n",
       "  <thead>\n",
       "    <tr style=\"text-align: right;\">\n",
       "      <th>period_num</th>\n",
       "      <th>1</th>\n",
       "      <th>2</th>\n",
       "      <th>3</th>\n",
       "      <th>4</th>\n",
       "      <th>5</th>\n",
       "      <th>6</th>\n",
       "      <th>7</th>\n",
       "      <th>8</th>\n",
       "      <th>9</th>\n",
       "      <th>10</th>\n",
       "      <th>11</th>\n",
       "      <th>12</th>\n",
       "    </tr>\n",
       "    <tr>\n",
       "      <th>cohort</th>\n",
       "      <th></th>\n",
       "      <th></th>\n",
       "      <th></th>\n",
       "      <th></th>\n",
       "      <th></th>\n",
       "      <th></th>\n",
       "      <th></th>\n",
       "      <th></th>\n",
       "      <th></th>\n",
       "      <th></th>\n",
       "      <th></th>\n",
       "      <th></th>\n",
       "    </tr>\n",
       "  </thead>\n",
       "  <tbody>\n",
       "    <tr>\n",
       "      <th>2010-01</th>\n",
       "      <td>1.0</td>\n",
       "      <td>0.392707</td>\n",
       "      <td>0.468443</td>\n",
       "      <td>0.438990</td>\n",
       "      <td>0.427770</td>\n",
       "      <td>0.426367</td>\n",
       "      <td>0.410940</td>\n",
       "      <td>0.375877</td>\n",
       "      <td>0.399719</td>\n",
       "      <td>0.447405</td>\n",
       "      <td>0.469846</td>\n",
       "      <td>0.349229</td>\n",
       "    </tr>\n",
       "    <tr>\n",
       "      <th>2010-02</th>\n",
       "      <td>1.0</td>\n",
       "      <td>0.334056</td>\n",
       "      <td>0.277657</td>\n",
       "      <td>0.349241</td>\n",
       "      <td>0.329718</td>\n",
       "      <td>0.262473</td>\n",
       "      <td>0.258134</td>\n",
       "      <td>0.344902</td>\n",
       "      <td>0.331887</td>\n",
       "      <td>0.360087</td>\n",
       "      <td>0.216920</td>\n",
       "      <td>NaN</td>\n",
       "    </tr>\n",
       "    <tr>\n",
       "      <th>2010-03</th>\n",
       "      <td>1.0</td>\n",
       "      <td>0.276515</td>\n",
       "      <td>0.299242</td>\n",
       "      <td>0.274621</td>\n",
       "      <td>0.265152</td>\n",
       "      <td>0.232955</td>\n",
       "      <td>0.282197</td>\n",
       "      <td>0.352273</td>\n",
       "      <td>0.365530</td>\n",
       "      <td>0.181818</td>\n",
       "      <td>NaN</td>\n",
       "      <td>NaN</td>\n",
       "    </tr>\n",
       "    <tr>\n",
       "      <th>2010-04</th>\n",
       "      <td>1.0</td>\n",
       "      <td>0.251534</td>\n",
       "      <td>0.230061</td>\n",
       "      <td>0.193252</td>\n",
       "      <td>0.211656</td>\n",
       "      <td>0.242331</td>\n",
       "      <td>0.300613</td>\n",
       "      <td>0.309816</td>\n",
       "      <td>0.153374</td>\n",
       "      <td>NaN</td>\n",
       "      <td>NaN</td>\n",
       "      <td>NaN</td>\n",
       "    </tr>\n",
       "    <tr>\n",
       "      <th>2010-05</th>\n",
       "      <td>1.0</td>\n",
       "      <td>0.200730</td>\n",
       "      <td>0.182482</td>\n",
       "      <td>0.189781</td>\n",
       "      <td>0.189781</td>\n",
       "      <td>0.262774</td>\n",
       "      <td>0.244526</td>\n",
       "      <td>0.156934</td>\n",
       "      <td>NaN</td>\n",
       "      <td>NaN</td>\n",
       "      <td>NaN</td>\n",
       "      <td>NaN</td>\n",
       "    </tr>\n",
       "    <tr>\n",
       "      <th>2010-06</th>\n",
       "      <td>1.0</td>\n",
       "      <td>0.199248</td>\n",
       "      <td>0.210526</td>\n",
       "      <td>0.225564</td>\n",
       "      <td>0.244361</td>\n",
       "      <td>0.319549</td>\n",
       "      <td>0.146617</td>\n",
       "      <td>NaN</td>\n",
       "      <td>NaN</td>\n",
       "      <td>NaN</td>\n",
       "      <td>NaN</td>\n",
       "      <td>NaN</td>\n",
       "    </tr>\n",
       "    <tr>\n",
       "      <th>2010-07</th>\n",
       "      <td>1.0</td>\n",
       "      <td>0.212291</td>\n",
       "      <td>0.206704</td>\n",
       "      <td>0.290503</td>\n",
       "      <td>0.296089</td>\n",
       "      <td>0.167598</td>\n",
       "      <td>NaN</td>\n",
       "      <td>NaN</td>\n",
       "      <td>NaN</td>\n",
       "      <td>NaN</td>\n",
       "      <td>NaN</td>\n",
       "      <td>NaN</td>\n",
       "    </tr>\n",
       "    <tr>\n",
       "      <th>2010-08</th>\n",
       "      <td>1.0</td>\n",
       "      <td>0.218750</td>\n",
       "      <td>0.312500</td>\n",
       "      <td>0.300000</td>\n",
       "      <td>0.168750</td>\n",
       "      <td>NaN</td>\n",
       "      <td>NaN</td>\n",
       "      <td>NaN</td>\n",
       "      <td>NaN</td>\n",
       "      <td>NaN</td>\n",
       "      <td>NaN</td>\n",
       "      <td>NaN</td>\n",
       "    </tr>\n",
       "    <tr>\n",
       "      <th>2010-09</th>\n",
       "      <td>1.0</td>\n",
       "      <td>0.281938</td>\n",
       "      <td>0.264317</td>\n",
       "      <td>0.136564</td>\n",
       "      <td>NaN</td>\n",
       "      <td>NaN</td>\n",
       "      <td>NaN</td>\n",
       "      <td>NaN</td>\n",
       "      <td>NaN</td>\n",
       "      <td>NaN</td>\n",
       "      <td>NaN</td>\n",
       "      <td>NaN</td>\n",
       "    </tr>\n",
       "    <tr>\n",
       "      <th>2010-10</th>\n",
       "      <td>1.0</td>\n",
       "      <td>0.284530</td>\n",
       "      <td>0.168508</td>\n",
       "      <td>NaN</td>\n",
       "      <td>NaN</td>\n",
       "      <td>NaN</td>\n",
       "      <td>NaN</td>\n",
       "      <td>NaN</td>\n",
       "      <td>NaN</td>\n",
       "      <td>NaN</td>\n",
       "      <td>NaN</td>\n",
       "      <td>NaN</td>\n",
       "    </tr>\n",
       "    <tr>\n",
       "      <th>2010-11</th>\n",
       "      <td>1.0</td>\n",
       "      <td>0.201835</td>\n",
       "      <td>NaN</td>\n",
       "      <td>NaN</td>\n",
       "      <td>NaN</td>\n",
       "      <td>NaN</td>\n",
       "      <td>NaN</td>\n",
       "      <td>NaN</td>\n",
       "      <td>NaN</td>\n",
       "      <td>NaN</td>\n",
       "      <td>NaN</td>\n",
       "      <td>NaN</td>\n",
       "    </tr>\n",
       "    <tr>\n",
       "      <th>2010-12</th>\n",
       "      <td>1.0</td>\n",
       "      <td>NaN</td>\n",
       "      <td>NaN</td>\n",
       "      <td>NaN</td>\n",
       "      <td>NaN</td>\n",
       "      <td>NaN</td>\n",
       "      <td>NaN</td>\n",
       "      <td>NaN</td>\n",
       "      <td>NaN</td>\n",
       "      <td>NaN</td>\n",
       "      <td>NaN</td>\n",
       "      <td>NaN</td>\n",
       "    </tr>\n",
       "  </tbody>\n",
       "</table>\n",
       "</div>"
      ],
      "text/plain": [
       "period_num   1         2         3         4         5         6         7    \n",
       "cohort                                                                        \n",
       "2010-01     1.0  0.392707  0.468443  0.438990  0.427770  0.426367  0.410940  \\\n",
       "2010-02     1.0  0.334056  0.277657  0.349241  0.329718  0.262473  0.258134   \n",
       "2010-03     1.0  0.276515  0.299242  0.274621  0.265152  0.232955  0.282197   \n",
       "2010-04     1.0  0.251534  0.230061  0.193252  0.211656  0.242331  0.300613   \n",
       "2010-05     1.0  0.200730  0.182482  0.189781  0.189781  0.262774  0.244526   \n",
       "2010-06     1.0  0.199248  0.210526  0.225564  0.244361  0.319549  0.146617   \n",
       "2010-07     1.0  0.212291  0.206704  0.290503  0.296089  0.167598       NaN   \n",
       "2010-08     1.0  0.218750  0.312500  0.300000  0.168750       NaN       NaN   \n",
       "2010-09     1.0  0.281938  0.264317  0.136564       NaN       NaN       NaN   \n",
       "2010-10     1.0  0.284530  0.168508       NaN       NaN       NaN       NaN   \n",
       "2010-11     1.0  0.201835       NaN       NaN       NaN       NaN       NaN   \n",
       "2010-12     1.0       NaN       NaN       NaN       NaN       NaN       NaN   \n",
       "\n",
       "period_num        8         9         10        11        12  \n",
       "cohort                                                        \n",
       "2010-01     0.375877  0.399719  0.447405  0.469846  0.349229  \n",
       "2010-02     0.344902  0.331887  0.360087  0.216920       NaN  \n",
       "2010-03     0.352273  0.365530  0.181818       NaN       NaN  \n",
       "2010-04     0.309816  0.153374       NaN       NaN       NaN  \n",
       "2010-05     0.156934       NaN       NaN       NaN       NaN  \n",
       "2010-06          NaN       NaN       NaN       NaN       NaN  \n",
       "2010-07          NaN       NaN       NaN       NaN       NaN  \n",
       "2010-08          NaN       NaN       NaN       NaN       NaN  \n",
       "2010-09          NaN       NaN       NaN       NaN       NaN  \n",
       "2010-10          NaN       NaN       NaN       NaN       NaN  \n",
       "2010-11          NaN       NaN       NaN       NaN       NaN  \n",
       "2010-12          NaN       NaN       NaN       NaN       NaN  "
      ]
     },
     "execution_count": 27,
     "metadata": {},
     "output_type": "execute_result"
    }
   ],
   "source": [
    "# Menghitung retention rate per cohort.\n",
    "df_retention_cohort = df_cohort_pivot.divide(cohort_size, axis=0)\n",
    "df_retention_cohort"
   ]
  },
  {
   "cell_type": "markdown",
   "id": "ac00d4d1",
   "metadata": {
    "id": "8iIXIQrn6iZx",
    "papermill": {
     "duration": 0.019244,
     "end_time": "2025-02-05T18:06:27.875077",
     "exception": false,
     "start_time": "2025-02-05T18:06:27.855833",
     "status": "completed"
    },
    "tags": []
   },
   "source": [
    "### **Menampilkan Heatmap Retention Rate**\n",
    "\n",
    "Heatmap digunakan untuk memvisualisasikan retention rate dari tabel pivot, dengan warna yang menggambarkan tingkat retensi pengguna pada setiap kombinasi cohort dan jarak bulan."
   ]
  },
  {
   "cell_type": "code",
   "execution_count": 28,
   "id": "e6e80c05",
   "metadata": {
    "execution": {
     "iopub.execute_input": "2025-02-05T18:06:27.916120Z",
     "iopub.status.busy": "2025-02-05T18:06:27.915725Z",
     "iopub.status.idle": "2025-02-05T18:06:29.454901Z",
     "shell.execute_reply": "2025-02-05T18:06:29.453826Z"
    },
    "executionInfo": {
     "elapsed": 1973,
     "status": "ok",
     "timestamp": 1735035604244,
     "user": {
      "displayName": "Isma Dian Damara",
      "userId": "03128721927476324285"
     },
     "user_tz": -420
    },
    "id": "WrVr-rOb6ZQr",
    "outputId": "c016c552-c421-453b-b80f-b54867717c28",
    "papermill": {
     "duration": 1.562606,
     "end_time": "2025-02-05T18:06:29.457444",
     "exception": false,
     "start_time": "2025-02-05T18:06:27.894838",
     "status": "completed"
    },
    "tags": []
   },
   "outputs": [
    {
     "data": {
      "image/png": "[encoded data removed]",
      "text/plain": [
       "<Figure size 1400x800 with 2 Axes>"
      ]
     },
     "metadata": {},
     "output_type": "display_data"
    }
   ],
   "source": [
    "import matplotlib.pyplot as plt\n",
    "import matplotlib.colors as mcolors\n",
    "import seaborn as sns\n",
    "import pandas as pd\n",
    "\n",
    "# Warna hijau muda untuk colormap\n",
    "# Warna biru muda untuk colormap\n",
    "light_blue_cmap = mcolors.ListedColormap(['#e6faff', '#ccf2ff', '#99e6ff', '#66d9ff', '#33ccff', '#00bfff'])\n",
    "\n",
    "# Set custom styles for aesthetics\n",
    "sns.set(style=\"white\", font_scale=1.1)\n",
    "\n",
    "with sns.axes_style('white'):\n",
    "    fig, ax = plt.subplots(1, 2, figsize=(14, 8), sharey=True, gridspec_kw={'width_ratios': [1, 11]})\n",
    "\n",
    "    # User retention cohort with green colormap\n",
    "    sns.heatmap(\n",
    "        df_retention_cohort, annot=True, fmt='.0%', cmap=light_blue_cmap,\n",
    "        ax=ax[1], cbar=False, linewidths=0.1, linecolor='grey',\n",
    "        annot_kws={\"size\": 10, \"weight\": \"bold\", \"color\": \"black\"}\n",
    "    )\n",
    "    ax[1].set_title('User Retention Cohort', fontsize=16, fontweight='bold')\n",
    "    ax[1].set(xlabel='Month Number', ylabel='')\n",
    "\n",
    "    # Cohort size with a lighter blue background\n",
    "    df_cohort_size = pd.DataFrame(cohort_size)\n",
    "    light_blue_cmap = mcolors.ListedColormap(['#ff80ab'])  # Light blue color\n",
    "    sns.heatmap(\n",
    "        df_cohort_size, annot=True, cbar=False, fmt='g', cmap=light_blue_cmap, ax=ax[0],\n",
    "        annot_kws={\"size\": 10, \"weight\": \"bold\", \"color\": \"black\"}\n",
    "    )\n",
    "    ax[0].tick_params(bottom=False)\n",
    "    ax[0].set(xlabel='Cohort Size', ylabel='First Order Month', xticklabels=[])\n",
    "    ax[0].set_title('Cohort Size', fontsize=12, fontweight='bold')\n",
    "\n",
    "    # Adjust layout for better spacing\n",
    "    fig.tight_layout(pad=2.0)\n",
    "\n",
    "plt.show()"
   ]
  },
  {
   "cell_type": "markdown",
   "id": "ec824328",
   "metadata": {
    "id": "d3TRiRQUzXsa",
    "papermill": {
     "duration": 0.022983,
     "end_time": "2025-02-05T18:06:29.502799",
     "exception": false,
     "start_time": "2025-02-05T18:06:29.479816",
     "status": "completed"
    },
    "tags": []
   },
   "source": [
    "**Insight:**\n",
    "\n",
    "Berdasarkan hasil **User Retention Cohort**, terlihat bahwa tingkat retensi pelanggan cenderung menurun seiring waktu. Pelanggan yang bergabung pada bulan pertama (cohort) menunjukkan persentase retensi 100%, namun angka ini terus berkurang di bulan-bulan berikutnya. Misalnya, cohort Januari 2010 mengalami penurunan retensi dari 39% di bulan kedua menjadi 35% di bulan ke-12. Pola ini menunjukkan bahwa semakin lama pelanggan bergabung, semakin kecil kemungkinan mereka kembali melakukan pembelian. Selain itu, terdapat variasi antar cohort. Cohort Januari 2010 menunjukkan retensi yang lebih stabil dibanding cohort lain, dengan persentase yang tetap tinggi hingga bulan ke-12, sementara cohort seperti Mei dan Juni 2010 memiliki penurunan retensi yang lebih tajam, dengan retensi hanya 16% di bulan ke-6. Variasi ini kemungkinan dipengaruhi oleh faktor eksternal seperti strategi pemasaran, musim, atau pengalaman pelanggan."
   ]
  },
  {
   "cell_type": "markdown",
   "id": "e1d8f857",
   "metadata": {
    "id": "UUou3ptbw4Iq",
    "papermill": {
     "duration": 0.021419,
     "end_time": "2025-02-05T18:06:29.546521",
     "exception": false,
     "start_time": "2025-02-05T18:06:29.525102",
     "status": "completed"
    },
    "tags": []
   },
   "source": [
    "### **Persiapan Data Untuk Visualisasi Dashboard**"
   ]
  },
  {
   "cell_type": "code",
   "execution_count": 29,
   "id": "8ab07759",
   "metadata": {
    "execution": {
     "iopub.execute_input": "2025-02-05T18:06:29.593819Z",
     "iopub.status.busy": "2025-02-05T18:06:29.593251Z",
     "iopub.status.idle": "2025-02-05T18:06:29.628996Z",
     "shell.execute_reply": "2025-02-05T18:06:29.627781Z"
    },
    "executionInfo": {
     "elapsed": 59,
     "status": "ok",
     "timestamp": 1735035604244,
     "user": {
      "displayName": "Isma Dian Damara",
      "userId": "03128721927476324285"
     },
     "user_tz": -420
    },
    "id": "ajRRhFVvvzJ_",
    "outputId": "79c5dfe7-91e0-4eb5-9f45-c3389b76be00",
    "papermill": {
     "duration": 0.061069,
     "end_time": "2025-02-05T18:06:29.630712",
     "exception": false,
     "start_time": "2025-02-05T18:06:29.569643",
     "status": "completed"
    },
    "tags": []
   },
   "outputs": [
    {
     "data": {
      "text/html": [
       "<div>\n",
       "<style scoped>\n",
       "    .dataframe tbody tr th:only-of-type {\n",
       "        vertical-align: middle;\n",
       "    }\n",
       "\n",
       "    .dataframe tbody tr th {\n",
       "        vertical-align: top;\n",
       "    }\n",
       "\n",
       "    .dataframe thead th {\n",
       "        text-align: right;\n",
       "    }\n",
       "</style>\n",
       "<table border=\"1\" class=\"dataframe\">\n",
       "  <thead>\n",
       "    <tr style=\"text-align: right;\">\n",
       "      <th></th>\n",
       "      <th>cohort</th>\n",
       "      <th>period_num</th>\n",
       "      <th>active_customers</th>\n",
       "      <th>cohort_size</th>\n",
       "      <th>churn_rate</th>\n",
       "      <th>retention_rate</th>\n",
       "    </tr>\n",
       "  </thead>\n",
       "  <tbody>\n",
       "    <tr>\n",
       "      <th>0</th>\n",
       "      <td>2010-01</td>\n",
       "      <td>1</td>\n",
       "      <td>713</td>\n",
       "      <td>713</td>\n",
       "      <td>0.000000</td>\n",
       "      <td>100.000000</td>\n",
       "    </tr>\n",
       "    <tr>\n",
       "      <th>1</th>\n",
       "      <td>2010-01</td>\n",
       "      <td>2</td>\n",
       "      <td>280</td>\n",
       "      <td>713</td>\n",
       "      <td>60.729313</td>\n",
       "      <td>39.270687</td>\n",
       "    </tr>\n",
       "    <tr>\n",
       "      <th>2</th>\n",
       "      <td>2010-01</td>\n",
       "      <td>3</td>\n",
       "      <td>334</td>\n",
       "      <td>713</td>\n",
       "      <td>53.155680</td>\n",
       "      <td>46.844320</td>\n",
       "    </tr>\n",
       "    <tr>\n",
       "      <th>3</th>\n",
       "      <td>2010-01</td>\n",
       "      <td>4</td>\n",
       "      <td>313</td>\n",
       "      <td>713</td>\n",
       "      <td>56.100982</td>\n",
       "      <td>43.899018</td>\n",
       "    </tr>\n",
       "    <tr>\n",
       "      <th>4</th>\n",
       "      <td>2010-01</td>\n",
       "      <td>5</td>\n",
       "      <td>305</td>\n",
       "      <td>713</td>\n",
       "      <td>57.223001</td>\n",
       "      <td>42.776999</td>\n",
       "    </tr>\n",
       "    <tr>\n",
       "      <th>...</th>\n",
       "      <td>...</td>\n",
       "      <td>...</td>\n",
       "      <td>...</td>\n",
       "      <td>...</td>\n",
       "      <td>...</td>\n",
       "      <td>...</td>\n",
       "    </tr>\n",
       "    <tr>\n",
       "      <th>73</th>\n",
       "      <td>2010-10</td>\n",
       "      <td>2</td>\n",
       "      <td>103</td>\n",
       "      <td>362</td>\n",
       "      <td>71.546961</td>\n",
       "      <td>28.453039</td>\n",
       "    </tr>\n",
       "    <tr>\n",
       "      <th>74</th>\n",
       "      <td>2010-10</td>\n",
       "      <td>3</td>\n",
       "      <td>61</td>\n",
       "      <td>362</td>\n",
       "      <td>83.149171</td>\n",
       "      <td>16.850829</td>\n",
       "    </tr>\n",
       "    <tr>\n",
       "      <th>75</th>\n",
       "      <td>2010-11</td>\n",
       "      <td>1</td>\n",
       "      <td>327</td>\n",
       "      <td>327</td>\n",
       "      <td>0.000000</td>\n",
       "      <td>100.000000</td>\n",
       "    </tr>\n",
       "    <tr>\n",
       "      <th>76</th>\n",
       "      <td>2010-11</td>\n",
       "      <td>2</td>\n",
       "      <td>66</td>\n",
       "      <td>327</td>\n",
       "      <td>79.816514</td>\n",
       "      <td>20.183486</td>\n",
       "    </tr>\n",
       "    <tr>\n",
       "      <th>77</th>\n",
       "      <td>2010-12</td>\n",
       "      <td>1</td>\n",
       "      <td>66</td>\n",
       "      <td>66</td>\n",
       "      <td>0.000000</td>\n",
       "      <td>100.000000</td>\n",
       "    </tr>\n",
       "  </tbody>\n",
       "</table>\n",
       "<p>78 rows × 6 columns</p>\n",
       "</div>"
      ],
      "text/plain": [
       "     cohort  period_num  active_customers  cohort_size  churn_rate   \n",
       "0   2010-01           1               713          713    0.000000  \\\n",
       "1   2010-01           2               280          713   60.729313   \n",
       "2   2010-01           3               334          713   53.155680   \n",
       "3   2010-01           4               313          713   56.100982   \n",
       "4   2010-01           5               305          713   57.223001   \n",
       "..      ...         ...               ...          ...         ...   \n",
       "73  2010-10           2               103          362   71.546961   \n",
       "74  2010-10           3                61          362   83.149171   \n",
       "75  2010-11           1               327          327    0.000000   \n",
       "76  2010-11           2                66          327   79.816514   \n",
       "77  2010-12           1                66           66    0.000000   \n",
       "\n",
       "    retention_rate  \n",
       "0       100.000000  \n",
       "1        39.270687  \n",
       "2        46.844320  \n",
       "3        43.899018  \n",
       "4        42.776999  \n",
       "..             ...  \n",
       "73       28.453039  \n",
       "74       16.850829  \n",
       "75      100.000000  \n",
       "76       20.183486  \n",
       "77      100.000000  \n",
       "\n",
       "[78 rows x 6 columns]"
      ]
     },
     "execution_count": 29,
     "metadata": {},
     "output_type": "execute_result"
    }
   ],
   "source": [
    "# Hitung jumlah pelanggan aktif per cohort dan period_num\n",
    "active_customers = (\n",
    "    df_user_monthly.groupby([\"cohort\", \"period_num\"])[\"customer_id\"]\n",
    "    .nunique()\n",
    "    .reset_index()\n",
    ")\n",
    "active_customers.rename(columns={\"customer_id\": \"active_customers\"}, inplace=True)\n",
    "\n",
    "# Hitung jumlah pelanggan awal setiap cohort\n",
    "cohort_sizes = (\n",
    "    df_user_monthly[df_user_monthly[\"period_num\"] == 1]\n",
    "    .groupby(\"cohort\")[\"customer_id\"]\n",
    "    .nunique()\n",
    "    .reset_index()\n",
    ")\n",
    "cohort_sizes.rename(columns={\"customer_id\": \"cohort_size\"}, inplace=True)\n",
    "\n",
    "# Gabungkan data active_customers dengan cohort_sizes\n",
    "retention_data = active_customers.merge(cohort_sizes, on=\"cohort\")\n",
    "\n",
    "# Tambahkan Churn Rate\n",
    "retention_data[\"churn_rate\"] = 100 - (retention_data[\"active_customers\"] / retention_data[\"cohort_size\"] * 100)\n",
    "\n",
    "# Tambahkan Retention Rate\n",
    "retention_data[\"retention_rate\"] = (retention_data[\"active_customers\"] / retention_data[\"cohort_size\"] * 100)\n",
    "\n",
    "# Tampilkan hasil\n",
    "retention_data"
   ]
  },
  {
   "cell_type": "code",
   "execution_count": 30,
   "id": "dacaef2b",
   "metadata": {
    "execution": {
     "iopub.execute_input": "2025-02-05T18:06:29.676702Z",
     "iopub.status.busy": "2025-02-05T18:06:29.676353Z",
     "iopub.status.idle": "2025-02-05T18:06:29.683424Z",
     "shell.execute_reply": "2025-02-05T18:06:29.682236Z"
    },
    "id": "EMyvsheGxeKk",
    "papermill": {
     "duration": 0.032468,
     "end_time": "2025-02-05T18:06:29.685517",
     "exception": false,
     "start_time": "2025-02-05T18:06:29.653049",
     "status": "completed"
    },
    "tags": []
   },
   "outputs": [],
   "source": [
    "# Save data\n",
    "retention_data.to_csv('../data/retention_rate.csv', index=False)"
   ]
  },
  {
   "cell_type": "markdown",
   "id": "d0f097fe",
   "metadata": {
    "id": "QDENnOxB7yCU",
    "papermill": {
     "duration": 0.029173,
     "end_time": "2025-02-05T18:07:09.533615",
     "exception": false,
     "start_time": "2025-02-05T18:07:09.504442",
     "status": "completed"
    },
    "tags": []
   },
   "source": [
    "## **Kesimpulan**\n"
   ]
  },
  {
   "cell_type": "markdown",
   "id": "d4523380",
   "metadata": {
    "id": "SPxfzugQ3Qze",
    "papermill": {
     "duration": 0.028672,
     "end_time": "2025-02-05T18:07:09.592257",
     "exception": false,
     "start_time": "2025-02-05T18:07:09.563585",
     "status": "completed"
    },
    "tags": []
   },
   "source": [
    "Berdasarkan hasil User Retention Cohort dapat disimpulkan bahwa analisis ini memberikan wawasan penting untuk strategi pemasaran yang lebih efektif.\n",
    "\n",
    "**User Retention Cohort** menunjukkan penurunan retensi\n",
    "pelanggan seiring waktu, dengan variasi antar cohort. Ini menunjukkan perlunya upaya untuk meningkatkan pengalaman pelanggan dan memberikan insentif yang menarik, terutama untuk cohort yang menunjukkan penurunan tajam."
   ]
  }
 ],
 "metadata": {
  "colab": {
   "authorship_tag": "ABX9TyO1n5FP5fbXyIoODMJC+pdd",
   "mount_file_id": "1PnP-cVsrfHmrj8f26HQakoKDd2n5YmlT",
   "provenance": [],
   "toc_visible": true
  },
  "kaggle": {
   "accelerator": "none",
   "dataSources": [
    {
     "datasetId": 6610407,
     "sourceId": 10672412,
     "sourceType": "datasetVersion"
    }
   ],
   "dockerImageVersionId": 30839,
   "isGpuEnabled": false,
   "isInternetEnabled": true,
   "language": "python",
   "sourceType": "notebook"
  },
  "kernelspec": {
   "display_name": "Python 3",
   "language": "python",
   "name": "python3"
  },
  "language_info": {
   "codemirror_mode": {
    "name": "ipython",
    "version": 3
   },
   "file_extension": ".py",
   "mimetype": "text/x-python",
   "name": "python",
   "nbconvert_exporter": "python",
   "pygments_lexer": "ipython3",
   "version": "3.11.3"
  },
  "papermill": {
   "default_parameters": {},
   "duration": 58.090133,
   "end_time": "2025-02-05T18:07:10.544333",
   "environment_variables": {},
   "exception": null,
   "input_path": "__notebook__.ipynb",
   "output_path": "__notebook__.ipynb",
   "parameters": {},
   "start_time": "2025-02-05T18:06:12.454200",
   "version": "2.6.0"
  }
 },
 "nbformat": 4,
 "nbformat_minor": 5
}
